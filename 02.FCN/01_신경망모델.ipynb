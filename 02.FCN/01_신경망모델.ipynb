{
  "cells": [
    {
      "cell_type": "markdown",
      "metadata": {
        "id": "YYwInvVOA9J-"
      },
      "source": [
        "# 신경망 모델\n",
        "- 이진 분류: 유방암 예측 사례"
      ]
    },
    {
      "cell_type": "code",
      "execution_count": 2,
      "metadata": {
        "id": "EyJFOyRl-vto"
      },
      "outputs": [],
      "source": [
        "import numpy as np\n",
        "import pandas as pd\n",
        "import matplotlib.pyplot as plt"
      ]
    },
    {
      "cell_type": "markdown",
      "metadata": {
        "id": "6i5nP0gyDcMZ"
      },
      "source": [
        "- 데이터 준비"
      ]
    },
    {
      "cell_type": "code",
      "execution_count": 3,
      "metadata": {
        "colab": {
          "base_uri": "https://localhost:8080/",
          "height": 334
        },
        "id": "hloCyqKDDbn-",
        "outputId": "989e535f-a57b-4ce6-d356-a44ac6313719"
      },
      "outputs": [
        {
          "data": {
            "text/html": [
              "<div>\n",
              "<style scoped>\n",
              "    .dataframe tbody tr th:only-of-type {\n",
              "        vertical-align: middle;\n",
              "    }\n",
              "\n",
              "    .dataframe tbody tr th {\n",
              "        vertical-align: top;\n",
              "    }\n",
              "\n",
              "    .dataframe thead th {\n",
              "        text-align: right;\n",
              "    }\n",
              "</style>\n",
              "<table border=\"1\" class=\"dataframe\">\n",
              "  <thead>\n",
              "    <tr style=\"text-align: right;\">\n",
              "      <th></th>\n",
              "      <th>mean radius</th>\n",
              "      <th>mean texture</th>\n",
              "      <th>mean perimeter</th>\n",
              "      <th>mean area</th>\n",
              "      <th>mean smoothness</th>\n",
              "      <th>mean compactness</th>\n",
              "      <th>mean concavity</th>\n",
              "      <th>mean concave points</th>\n",
              "      <th>mean symmetry</th>\n",
              "      <th>mean fractal dimension</th>\n",
              "      <th>...</th>\n",
              "      <th>worst texture</th>\n",
              "      <th>worst perimeter</th>\n",
              "      <th>worst area</th>\n",
              "      <th>worst smoothness</th>\n",
              "      <th>worst compactness</th>\n",
              "      <th>worst concavity</th>\n",
              "      <th>worst concave points</th>\n",
              "      <th>worst symmetry</th>\n",
              "      <th>worst fractal dimension</th>\n",
              "      <th>target</th>\n",
              "    </tr>\n",
              "  </thead>\n",
              "  <tbody>\n",
              "    <tr>\n",
              "      <th>0</th>\n",
              "      <td>17.99</td>\n",
              "      <td>10.38</td>\n",
              "      <td>122.80</td>\n",
              "      <td>1001.0</td>\n",
              "      <td>0.11840</td>\n",
              "      <td>0.27760</td>\n",
              "      <td>0.3001</td>\n",
              "      <td>0.14710</td>\n",
              "      <td>0.2419</td>\n",
              "      <td>0.07871</td>\n",
              "      <td>...</td>\n",
              "      <td>17.33</td>\n",
              "      <td>184.60</td>\n",
              "      <td>2019.0</td>\n",
              "      <td>0.1622</td>\n",
              "      <td>0.6656</td>\n",
              "      <td>0.7119</td>\n",
              "      <td>0.2654</td>\n",
              "      <td>0.4601</td>\n",
              "      <td>0.11890</td>\n",
              "      <td>0</td>\n",
              "    </tr>\n",
              "    <tr>\n",
              "      <th>1</th>\n",
              "      <td>20.57</td>\n",
              "      <td>17.77</td>\n",
              "      <td>132.90</td>\n",
              "      <td>1326.0</td>\n",
              "      <td>0.08474</td>\n",
              "      <td>0.07864</td>\n",
              "      <td>0.0869</td>\n",
              "      <td>0.07017</td>\n",
              "      <td>0.1812</td>\n",
              "      <td>0.05667</td>\n",
              "      <td>...</td>\n",
              "      <td>23.41</td>\n",
              "      <td>158.80</td>\n",
              "      <td>1956.0</td>\n",
              "      <td>0.1238</td>\n",
              "      <td>0.1866</td>\n",
              "      <td>0.2416</td>\n",
              "      <td>0.1860</td>\n",
              "      <td>0.2750</td>\n",
              "      <td>0.08902</td>\n",
              "      <td>0</td>\n",
              "    </tr>\n",
              "    <tr>\n",
              "      <th>2</th>\n",
              "      <td>19.69</td>\n",
              "      <td>21.25</td>\n",
              "      <td>130.00</td>\n",
              "      <td>1203.0</td>\n",
              "      <td>0.10960</td>\n",
              "      <td>0.15990</td>\n",
              "      <td>0.1974</td>\n",
              "      <td>0.12790</td>\n",
              "      <td>0.2069</td>\n",
              "      <td>0.05999</td>\n",
              "      <td>...</td>\n",
              "      <td>25.53</td>\n",
              "      <td>152.50</td>\n",
              "      <td>1709.0</td>\n",
              "      <td>0.1444</td>\n",
              "      <td>0.4245</td>\n",
              "      <td>0.4504</td>\n",
              "      <td>0.2430</td>\n",
              "      <td>0.3613</td>\n",
              "      <td>0.08758</td>\n",
              "      <td>0</td>\n",
              "    </tr>\n",
              "    <tr>\n",
              "      <th>3</th>\n",
              "      <td>11.42</td>\n",
              "      <td>20.38</td>\n",
              "      <td>77.58</td>\n",
              "      <td>386.1</td>\n",
              "      <td>0.14250</td>\n",
              "      <td>0.28390</td>\n",
              "      <td>0.2414</td>\n",
              "      <td>0.10520</td>\n",
              "      <td>0.2597</td>\n",
              "      <td>0.09744</td>\n",
              "      <td>...</td>\n",
              "      <td>26.50</td>\n",
              "      <td>98.87</td>\n",
              "      <td>567.7</td>\n",
              "      <td>0.2098</td>\n",
              "      <td>0.8663</td>\n",
              "      <td>0.6869</td>\n",
              "      <td>0.2575</td>\n",
              "      <td>0.6638</td>\n",
              "      <td>0.17300</td>\n",
              "      <td>0</td>\n",
              "    </tr>\n",
              "    <tr>\n",
              "      <th>4</th>\n",
              "      <td>20.29</td>\n",
              "      <td>14.34</td>\n",
              "      <td>135.10</td>\n",
              "      <td>1297.0</td>\n",
              "      <td>0.10030</td>\n",
              "      <td>0.13280</td>\n",
              "      <td>0.1980</td>\n",
              "      <td>0.10430</td>\n",
              "      <td>0.1809</td>\n",
              "      <td>0.05883</td>\n",
              "      <td>...</td>\n",
              "      <td>16.67</td>\n",
              "      <td>152.20</td>\n",
              "      <td>1575.0</td>\n",
              "      <td>0.1374</td>\n",
              "      <td>0.2050</td>\n",
              "      <td>0.4000</td>\n",
              "      <td>0.1625</td>\n",
              "      <td>0.2364</td>\n",
              "      <td>0.07678</td>\n",
              "      <td>0</td>\n",
              "    </tr>\n",
              "  </tbody>\n",
              "</table>\n",
              "<p>5 rows × 31 columns</p>\n",
              "</div>"
            ],
            "text/plain": [
              "   mean radius  mean texture  mean perimeter  mean area  mean smoothness  \\\n",
              "0        17.99         10.38          122.80     1001.0          0.11840   \n",
              "1        20.57         17.77          132.90     1326.0          0.08474   \n",
              "2        19.69         21.25          130.00     1203.0          0.10960   \n",
              "3        11.42         20.38           77.58      386.1          0.14250   \n",
              "4        20.29         14.34          135.10     1297.0          0.10030   \n",
              "\n",
              "   mean compactness  mean concavity  mean concave points  mean symmetry  \\\n",
              "0           0.27760          0.3001              0.14710         0.2419   \n",
              "1           0.07864          0.0869              0.07017         0.1812   \n",
              "2           0.15990          0.1974              0.12790         0.2069   \n",
              "3           0.28390          0.2414              0.10520         0.2597   \n",
              "4           0.13280          0.1980              0.10430         0.1809   \n",
              "\n",
              "   mean fractal dimension  ...  worst texture  worst perimeter  worst area  \\\n",
              "0                 0.07871  ...          17.33           184.60      2019.0   \n",
              "1                 0.05667  ...          23.41           158.80      1956.0   \n",
              "2                 0.05999  ...          25.53           152.50      1709.0   \n",
              "3                 0.09744  ...          26.50            98.87       567.7   \n",
              "4                 0.05883  ...          16.67           152.20      1575.0   \n",
              "\n",
              "   worst smoothness  worst compactness  worst concavity  worst concave points  \\\n",
              "0            0.1622             0.6656           0.7119                0.2654   \n",
              "1            0.1238             0.1866           0.2416                0.1860   \n",
              "2            0.1444             0.4245           0.4504                0.2430   \n",
              "3            0.2098             0.8663           0.6869                0.2575   \n",
              "4            0.1374             0.2050           0.4000                0.1625   \n",
              "\n",
              "   worst symmetry  worst fractal dimension  target  \n",
              "0          0.4601                  0.11890       0  \n",
              "1          0.2750                  0.08902       0  \n",
              "2          0.3613                  0.08758       0  \n",
              "3          0.6638                  0.17300       0  \n",
              "4          0.2364                  0.07678       0  \n",
              "\n",
              "[5 rows x 31 columns]"
            ]
          },
          "execution_count": 3,
          "metadata": {},
          "output_type": "execute_result"
        }
      ],
      "source": [
        "from sklearn.datasets import load_breast_cancer\n",
        "cancer = load_breast_cancer()\n",
        "df = pd.DataFrame(cancer.data, columns=cancer.feature_names)\n",
        "df['target'] = cancer.target\n",
        "df.head()"
      ]
    },
    {
      "cell_type": "code",
      "execution_count": 4,
      "metadata": {
        "colab": {
          "base_uri": "https://localhost:8080/"
        },
        "id": "2022nJrJD17c",
        "outputId": "a1e78eac-9251-41f9-d614-5599de9be3b3"
      },
      "outputs": [
        {
          "data": {
            "text/plain": [
              "(569, 31)"
            ]
          },
          "execution_count": 4,
          "metadata": {},
          "output_type": "execute_result"
        }
      ],
      "source": [
        "df.shape"
      ]
    },
    {
      "cell_type": "markdown",
      "metadata": {
        "id": "4XRH8wu1EF73"
      },
      "source": [
        "### 1. 데이터를 정규/표준화 하지 않은 경우"
      ]
    },
    {
      "cell_type": "code",
      "execution_count": 5,
      "metadata": {
        "id": "ZKuBgkvxECJl"
      },
      "outputs": [],
      "source": [
        "from sklearn.model_selection import train_test_split\n",
        "X_train, X_test, y_train, y_test = train_test_split(\n",
        "    cancer.data, cancer.target, stratify=cancer.target, test_size=0.2, random_state=2022\n",
        ")"
      ]
    },
    {
      "cell_type": "markdown",
      "metadata": {
        "id": "iCi0pbVdFAZU"
      },
      "source": [
        "- 모델 정의"
      ]
    },
    {
      "cell_type": "code",
      "execution_count": 6,
      "metadata": {
        "id": "z5tM5JnJE7Ci"
      },
      "outputs": [],
      "source": [
        "from tensorflow.keras.models import Sequential\n",
        "from tensorflow.keras.layers import Dense       # Fully Connected Network"
      ]
    },
    {
      "cell_type": "code",
      "execution_count": 7,
      "metadata": {
        "colab": {
          "base_uri": "https://localhost:8080/"
        },
        "id": "2Sd215dvFjdM",
        "outputId": "9f9cc574-664f-4f61-a4d5-892a9acd9416"
      },
      "outputs": [
        {
          "name": "stdout",
          "output_type": "stream",
          "text": [
            "Model: \"sequential\"\n",
            "_________________________________________________________________\n",
            " Layer (type)                Output Shape              Param #   \n",
            "=================================================================\n",
            " dense (Dense)               (None, 100)               3100      \n",
            "                                                                 \n",
            " dense_1 (Dense)             (None, 24)                2424      \n",
            "                                                                 \n",
            " dense_2 (Dense)             (None, 1)                 25        \n",
            "                                                                 \n",
            "=================================================================\n",
            "Total params: 5,549\n",
            "Trainable params: 5,549\n",
            "Non-trainable params: 0\n",
            "_________________________________________________________________\n"
          ]
        }
      ],
      "source": [
        "model = Sequential([\n",
        "    Dense(100, input_shape=(30,), activation='relu'),\n",
        "    Dense(24, activation='relu'),\n",
        "    Dense(1, activation='sigmoid')\n",
        "])\n",
        "model.summary()"
      ]
    },
    {
      "cell_type": "markdown",
      "metadata": {
        "id": "VWtXZrFpGxlC"
      },
      "source": [
        "- 모델 설정(컴파일)"
      ]
    },
    {
      "cell_type": "code",
      "execution_count": 8,
      "metadata": {
        "id": "f5hEsCX8GOEH"
      },
      "outputs": [],
      "source": [
        "model.compile(optimizer='adam', loss='binary_crossentropy', metrics=['accuracy'])"
      ]
    },
    {
      "cell_type": "markdown",
      "metadata": {
        "id": "TtYmmHkxHPOo"
      },
      "source": [
        "- 모델 학습"
      ]
    },
    {
      "cell_type": "code",
      "execution_count": 9,
      "metadata": {
        "colab": {
          "base_uri": "https://localhost:8080/"
        },
        "id": "kvCwwPfVHLId",
        "outputId": "90ef4610-eca7-41cd-9f1e-d27a1f51251f"
      },
      "outputs": [
        {
          "name": "stdout",
          "output_type": "stream",
          "text": [
            "Epoch 1/100\n",
            "4/4 [==============================] - 1s 103ms/step - loss: 21.0011 - accuracy: 0.6209 - val_loss: 1.9915 - val_accuracy: 0.1209\n",
            "Epoch 2/100\n",
            "4/4 [==============================] - 0s 13ms/step - loss: 5.3534 - accuracy: 0.3324 - val_loss: 9.1039 - val_accuracy: 0.3516\n",
            "Epoch 3/100\n",
            "4/4 [==============================] - 0s 15ms/step - loss: 7.3633 - accuracy: 0.3791 - val_loss: 3.3913 - val_accuracy: 0.3516\n",
            "Epoch 4/100\n",
            "4/4 [==============================] - 0s 15ms/step - loss: 2.2990 - accuracy: 0.5192 - val_loss: 3.4801 - val_accuracy: 0.6703\n",
            "Epoch 5/100\n",
            "4/4 [==============================] - 0s 13ms/step - loss: 2.3820 - accuracy: 0.7445 - val_loss: 0.8480 - val_accuracy: 0.6374\n",
            "Epoch 6/100\n",
            "4/4 [==============================] - 0s 15ms/step - loss: 1.6571 - accuracy: 0.4835 - val_loss: 0.9121 - val_accuracy: 0.6374\n",
            "Epoch 7/100\n",
            "4/4 [==============================] - 0s 14ms/step - loss: 1.0054 - accuracy: 0.7912 - val_loss: 1.3689 - val_accuracy: 0.8022\n",
            "Epoch 8/100\n",
            "4/4 [==============================] - 0s 15ms/step - loss: 1.3089 - accuracy: 0.8049 - val_loss: 0.4399 - val_accuracy: 0.8681\n",
            "Epoch 9/100\n",
            "4/4 [==============================] - 0s 14ms/step - loss: 0.8248 - accuracy: 0.7198 - val_loss: 0.6182 - val_accuracy: 0.7692\n",
            "Epoch 10/100\n",
            "4/4 [==============================] - 0s 15ms/step - loss: 0.5118 - accuracy: 0.8489 - val_loss: 0.5341 - val_accuracy: 0.8791\n",
            "Epoch 11/100\n",
            "4/4 [==============================] - 0s 14ms/step - loss: 0.6792 - accuracy: 0.8846 - val_loss: 0.3199 - val_accuracy: 0.9451\n",
            "Epoch 12/100\n",
            "4/4 [==============================] - 0s 14ms/step - loss: 0.4839 - accuracy: 0.8626 - val_loss: 0.5190 - val_accuracy: 0.8352\n",
            "Epoch 13/100\n",
            "4/4 [==============================] - 0s 14ms/step - loss: 0.4381 - accuracy: 0.8352 - val_loss: 0.3012 - val_accuracy: 0.9451\n",
            "Epoch 14/100\n",
            "4/4 [==============================] - 0s 15ms/step - loss: 0.5159 - accuracy: 0.8874 - val_loss: 0.2984 - val_accuracy: 0.9121\n",
            "Epoch 15/100\n",
            "4/4 [==============================] - 0s 15ms/step - loss: 0.3918 - accuracy: 0.8681 - val_loss: 0.3801 - val_accuracy: 0.8791\n",
            "Epoch 16/100\n",
            "4/4 [==============================] - 0s 15ms/step - loss: 0.3750 - accuracy: 0.8599 - val_loss: 0.2267 - val_accuracy: 0.9341\n",
            "Epoch 17/100\n",
            "4/4 [==============================] - 0s 15ms/step - loss: 0.3119 - accuracy: 0.8956 - val_loss: 0.2702 - val_accuracy: 0.9011\n",
            "Epoch 18/100\n",
            "4/4 [==============================] - 0s 14ms/step - loss: 0.2764 - accuracy: 0.8984 - val_loss: 0.3267 - val_accuracy: 0.9011\n",
            "Epoch 19/100\n",
            "4/4 [==============================] - 0s 13ms/step - loss: 0.2757 - accuracy: 0.9203 - val_loss: 0.3126 - val_accuracy: 0.9011\n",
            "Epoch 20/100\n",
            "4/4 [==============================] - 0s 14ms/step - loss: 0.2767 - accuracy: 0.8984 - val_loss: 0.2793 - val_accuracy: 0.9121\n",
            "Epoch 21/100\n",
            "4/4 [==============================] - 0s 14ms/step - loss: 0.2640 - accuracy: 0.9203 - val_loss: 0.2477 - val_accuracy: 0.9121\n",
            "Epoch 22/100\n",
            "4/4 [==============================] - 0s 14ms/step - loss: 0.2357 - accuracy: 0.9121 - val_loss: 0.2329 - val_accuracy: 0.9231\n",
            "Epoch 23/100\n",
            "4/4 [==============================] - 0s 15ms/step - loss: 0.2351 - accuracy: 0.9093 - val_loss: 0.2308 - val_accuracy: 0.9231\n",
            "Epoch 24/100\n",
            "4/4 [==============================] - 0s 14ms/step - loss: 0.2467 - accuracy: 0.9176 - val_loss: 0.2272 - val_accuracy: 0.9231\n",
            "Epoch 25/100\n",
            "4/4 [==============================] - 0s 14ms/step - loss: 0.2430 - accuracy: 0.9038 - val_loss: 0.2295 - val_accuracy: 0.9231\n",
            "Epoch 26/100\n",
            "4/4 [==============================] - 0s 12ms/step - loss: 0.2288 - accuracy: 0.9231 - val_loss: 0.2616 - val_accuracy: 0.9231\n",
            "Epoch 27/100\n",
            "4/4 [==============================] - 0s 15ms/step - loss: 0.2168 - accuracy: 0.9341 - val_loss: 0.2348 - val_accuracy: 0.9231\n",
            "Epoch 28/100\n",
            "4/4 [==============================] - 0s 13ms/step - loss: 0.2185 - accuracy: 0.9148 - val_loss: 0.2183 - val_accuracy: 0.9121\n",
            "Epoch 29/100\n",
            "4/4 [==============================] - 0s 15ms/step - loss: 0.2169 - accuracy: 0.9286 - val_loss: 0.2171 - val_accuracy: 0.9231\n",
            "Epoch 30/100\n",
            "4/4 [==============================] - 0s 13ms/step - loss: 0.2239 - accuracy: 0.9176 - val_loss: 0.2167 - val_accuracy: 0.9231\n",
            "Epoch 31/100\n",
            "4/4 [==============================] - 0s 15ms/step - loss: 0.2103 - accuracy: 0.9176 - val_loss: 0.2345 - val_accuracy: 0.9231\n",
            "Epoch 32/100\n",
            "4/4 [==============================] - 0s 13ms/step - loss: 0.2064 - accuracy: 0.9286 - val_loss: 0.2137 - val_accuracy: 0.9231\n",
            "Epoch 33/100\n",
            "4/4 [==============================] - 0s 14ms/step - loss: 0.2021 - accuracy: 0.9231 - val_loss: 0.2136 - val_accuracy: 0.9341\n",
            "Epoch 34/100\n",
            "4/4 [==============================] - 0s 13ms/step - loss: 0.1966 - accuracy: 0.9368 - val_loss: 0.2168 - val_accuracy: 0.9231\n",
            "Epoch 35/100\n",
            "4/4 [==============================] - 0s 14ms/step - loss: 0.1942 - accuracy: 0.9341 - val_loss: 0.2120 - val_accuracy: 0.9121\n",
            "Epoch 36/100\n",
            "4/4 [==============================] - 0s 13ms/step - loss: 0.2012 - accuracy: 0.9258 - val_loss: 0.2137 - val_accuracy: 0.9231\n",
            "Epoch 37/100\n",
            "4/4 [==============================] - 0s 13ms/step - loss: 0.2057 - accuracy: 0.9286 - val_loss: 0.2121 - val_accuracy: 0.9231\n",
            "Epoch 38/100\n",
            "4/4 [==============================] - 0s 13ms/step - loss: 0.1860 - accuracy: 0.9313 - val_loss: 0.2167 - val_accuracy: 0.9231\n",
            "Epoch 39/100\n",
            "4/4 [==============================] - 0s 13ms/step - loss: 0.1994 - accuracy: 0.9258 - val_loss: 0.2127 - val_accuracy: 0.9231\n",
            "Epoch 40/100\n",
            "4/4 [==============================] - 0s 15ms/step - loss: 0.1910 - accuracy: 0.9258 - val_loss: 0.2142 - val_accuracy: 0.9231\n",
            "Epoch 41/100\n",
            "4/4 [==============================] - 0s 14ms/step - loss: 0.1931 - accuracy: 0.9341 - val_loss: 0.2063 - val_accuracy: 0.9231\n",
            "Epoch 42/100\n",
            "4/4 [==============================] - 0s 15ms/step - loss: 0.1871 - accuracy: 0.9313 - val_loss: 0.2071 - val_accuracy: 0.9231\n",
            "Epoch 43/100\n",
            "4/4 [==============================] - 0s 14ms/step - loss: 0.1848 - accuracy: 0.9313 - val_loss: 0.2006 - val_accuracy: 0.9231\n",
            "Epoch 44/100\n",
            "4/4 [==============================] - 0s 12ms/step - loss: 0.1851 - accuracy: 0.9341 - val_loss: 0.1992 - val_accuracy: 0.9231\n",
            "Epoch 45/100\n",
            "4/4 [==============================] - 0s 13ms/step - loss: 0.1860 - accuracy: 0.9286 - val_loss: 0.1950 - val_accuracy: 0.9341\n",
            "Epoch 46/100\n",
            "4/4 [==============================] - 0s 13ms/step - loss: 0.1815 - accuracy: 0.9313 - val_loss: 0.2020 - val_accuracy: 0.9231\n",
            "Epoch 47/100\n",
            "4/4 [==============================] - 0s 14ms/step - loss: 0.1815 - accuracy: 0.9368 - val_loss: 0.2085 - val_accuracy: 0.9121\n",
            "Epoch 48/100\n",
            "4/4 [==============================] - 0s 13ms/step - loss: 0.1832 - accuracy: 0.9313 - val_loss: 0.2117 - val_accuracy: 0.9121\n",
            "Epoch 49/100\n",
            "4/4 [==============================] - 0s 14ms/step - loss: 0.1800 - accuracy: 0.9341 - val_loss: 0.1978 - val_accuracy: 0.9231\n",
            "Epoch 50/100\n",
            "4/4 [==============================] - 0s 14ms/step - loss: 0.1820 - accuracy: 0.9313 - val_loss: 0.1953 - val_accuracy: 0.9231\n",
            "Epoch 51/100\n",
            "4/4 [==============================] - 0s 13ms/step - loss: 0.1808 - accuracy: 0.9341 - val_loss: 0.1953 - val_accuracy: 0.9341\n",
            "Epoch 52/100\n",
            "4/4 [==============================] - 0s 13ms/step - loss: 0.1812 - accuracy: 0.9258 - val_loss: 0.1987 - val_accuracy: 0.9231\n",
            "Epoch 53/100\n",
            "4/4 [==============================] - 0s 13ms/step - loss: 0.1753 - accuracy: 0.9341 - val_loss: 0.1983 - val_accuracy: 0.9121\n",
            "Epoch 54/100\n",
            "4/4 [==============================] - 0s 14ms/step - loss: 0.1754 - accuracy: 0.9341 - val_loss: 0.2022 - val_accuracy: 0.9121\n",
            "Epoch 55/100\n",
            "4/4 [==============================] - 0s 12ms/step - loss: 0.1742 - accuracy: 0.9368 - val_loss: 0.1994 - val_accuracy: 0.9231\n",
            "Epoch 56/100\n",
            "4/4 [==============================] - 0s 16ms/step - loss: 0.1754 - accuracy: 0.9341 - val_loss: 0.2009 - val_accuracy: 0.9231\n",
            "Epoch 57/100\n",
            "4/4 [==============================] - 0s 16ms/step - loss: 0.1783 - accuracy: 0.9231 - val_loss: 0.1926 - val_accuracy: 0.9341\n",
            "Epoch 58/100\n",
            "4/4 [==============================] - 0s 19ms/step - loss: 0.1769 - accuracy: 0.9341 - val_loss: 0.1933 - val_accuracy: 0.9231\n",
            "Epoch 59/100\n",
            "4/4 [==============================] - 0s 16ms/step - loss: 0.1720 - accuracy: 0.9368 - val_loss: 0.2022 - val_accuracy: 0.9231\n",
            "Epoch 60/100\n",
            "4/4 [==============================] - 0s 14ms/step - loss: 0.1727 - accuracy: 0.9286 - val_loss: 0.2026 - val_accuracy: 0.9121\n",
            "Epoch 61/100\n",
            "4/4 [==============================] - 0s 13ms/step - loss: 0.1799 - accuracy: 0.9341 - val_loss: 0.2009 - val_accuracy: 0.9121\n",
            "Epoch 62/100\n",
            "4/4 [==============================] - 0s 15ms/step - loss: 0.1807 - accuracy: 0.9341 - val_loss: 0.2004 - val_accuracy: 0.9231\n",
            "Epoch 63/100\n",
            "4/4 [==============================] - 0s 13ms/step - loss: 0.1803 - accuracy: 0.9341 - val_loss: 0.1933 - val_accuracy: 0.9231\n",
            "Epoch 64/100\n",
            "4/4 [==============================] - 0s 14ms/step - loss: 0.1689 - accuracy: 0.9313 - val_loss: 0.1987 - val_accuracy: 0.9231\n",
            "Epoch 65/100\n",
            "4/4 [==============================] - 0s 14ms/step - loss: 0.1735 - accuracy: 0.9258 - val_loss: 0.1901 - val_accuracy: 0.9231\n",
            "Epoch 66/100\n",
            "4/4 [==============================] - 0s 13ms/step - loss: 0.1693 - accuracy: 0.9423 - val_loss: 0.1976 - val_accuracy: 0.9121\n",
            "Epoch 67/100\n",
            "4/4 [==============================] - 0s 13ms/step - loss: 0.1677 - accuracy: 0.9341 - val_loss: 0.2032 - val_accuracy: 0.9231\n",
            "Epoch 68/100\n",
            "4/4 [==============================] - 0s 14ms/step - loss: 0.1726 - accuracy: 0.9368 - val_loss: 0.1925 - val_accuracy: 0.9231\n",
            "Epoch 69/100\n",
            "4/4 [==============================] - 0s 16ms/step - loss: 0.1697 - accuracy: 0.9341 - val_loss: 0.1942 - val_accuracy: 0.9231\n",
            "Epoch 70/100\n",
            "4/4 [==============================] - 0s 13ms/step - loss: 0.1748 - accuracy: 0.9368 - val_loss: 0.1901 - val_accuracy: 0.9231\n",
            "Epoch 71/100\n",
            "4/4 [==============================] - 0s 14ms/step - loss: 0.1659 - accuracy: 0.9341 - val_loss: 0.2007 - val_accuracy: 0.9231\n",
            "Epoch 72/100\n",
            "4/4 [==============================] - 0s 14ms/step - loss: 0.1652 - accuracy: 0.9286 - val_loss: 0.1880 - val_accuracy: 0.9231\n",
            "Epoch 73/100\n",
            "4/4 [==============================] - 0s 14ms/step - loss: 0.1737 - accuracy: 0.9341 - val_loss: 0.1985 - val_accuracy: 0.9121\n",
            "Epoch 74/100\n",
            "4/4 [==============================] - 0s 15ms/step - loss: 0.1631 - accuracy: 0.9396 - val_loss: 0.2006 - val_accuracy: 0.9121\n",
            "Epoch 75/100\n",
            "4/4 [==============================] - 0s 15ms/step - loss: 0.1687 - accuracy: 0.9313 - val_loss: 0.1975 - val_accuracy: 0.9121\n",
            "Epoch 76/100\n",
            "4/4 [==============================] - 0s 15ms/step - loss: 0.1680 - accuracy: 0.9368 - val_loss: 0.1872 - val_accuracy: 0.9231\n",
            "Epoch 77/100\n",
            "4/4 [==============================] - 0s 15ms/step - loss: 0.1599 - accuracy: 0.9341 - val_loss: 0.1863 - val_accuracy: 0.9121\n",
            "Epoch 78/100\n",
            "4/4 [==============================] - 0s 14ms/step - loss: 0.1592 - accuracy: 0.9368 - val_loss: 0.1956 - val_accuracy: 0.9231\n",
            "Epoch 79/100\n",
            "4/4 [==============================] - 0s 12ms/step - loss: 0.1617 - accuracy: 0.9396 - val_loss: 0.1976 - val_accuracy: 0.9231\n",
            "Epoch 80/100\n",
            "4/4 [==============================] - 0s 14ms/step - loss: 0.1596 - accuracy: 0.9341 - val_loss: 0.1972 - val_accuracy: 0.9121\n",
            "Epoch 81/100\n",
            "4/4 [==============================] - 0s 14ms/step - loss: 0.1604 - accuracy: 0.9396 - val_loss: 0.1866 - val_accuracy: 0.9121\n",
            "Epoch 82/100\n",
            "4/4 [==============================] - 0s 14ms/step - loss: 0.1603 - accuracy: 0.9423 - val_loss: 0.1956 - val_accuracy: 0.9231\n",
            "Epoch 83/100\n",
            "4/4 [==============================] - 0s 13ms/step - loss: 0.1732 - accuracy: 0.9368 - val_loss: 0.1875 - val_accuracy: 0.9121\n",
            "Epoch 84/100\n",
            "4/4 [==============================] - 0s 21ms/step - loss: 0.1641 - accuracy: 0.9396 - val_loss: 0.1910 - val_accuracy: 0.9121\n",
            "Epoch 85/100\n",
            "4/4 [==============================] - 0s 15ms/step - loss: 0.1546 - accuracy: 0.9368 - val_loss: 0.2071 - val_accuracy: 0.9231\n",
            "Epoch 86/100\n",
            "4/4 [==============================] - 0s 13ms/step - loss: 0.1606 - accuracy: 0.9396 - val_loss: 0.1893 - val_accuracy: 0.9121\n",
            "Epoch 87/100\n",
            "4/4 [==============================] - 0s 13ms/step - loss: 0.1547 - accuracy: 0.9368 - val_loss: 0.1917 - val_accuracy: 0.9231\n",
            "Epoch 88/100\n",
            "4/4 [==============================] - 0s 14ms/step - loss: 0.1597 - accuracy: 0.9341 - val_loss: 0.1847 - val_accuracy: 0.9121\n",
            "Epoch 89/100\n",
            "4/4 [==============================] - 0s 13ms/step - loss: 0.1645 - accuracy: 0.9451 - val_loss: 0.1883 - val_accuracy: 0.9121\n",
            "Epoch 90/100\n",
            "4/4 [==============================] - 0s 14ms/step - loss: 0.1574 - accuracy: 0.9313 - val_loss: 0.1912 - val_accuracy: 0.9231\n",
            "Epoch 91/100\n",
            "4/4 [==============================] - 0s 14ms/step - loss: 0.1511 - accuracy: 0.9396 - val_loss: 0.1904 - val_accuracy: 0.9121\n",
            "Epoch 92/100\n",
            "4/4 [==============================] - 0s 15ms/step - loss: 0.1560 - accuracy: 0.9341 - val_loss: 0.1925 - val_accuracy: 0.9231\n",
            "Epoch 93/100\n",
            "4/4 [==============================] - 0s 14ms/step - loss: 0.1535 - accuracy: 0.9396 - val_loss: 0.1928 - val_accuracy: 0.9121\n",
            "Epoch 94/100\n",
            "4/4 [==============================] - 0s 14ms/step - loss: 0.1514 - accuracy: 0.9368 - val_loss: 0.2003 - val_accuracy: 0.9231\n",
            "Epoch 95/100\n",
            "4/4 [==============================] - 0s 14ms/step - loss: 0.1549 - accuracy: 0.9368 - val_loss: 0.1820 - val_accuracy: 0.9121\n",
            "Epoch 96/100\n",
            "4/4 [==============================] - 0s 15ms/step - loss: 0.1519 - accuracy: 0.9396 - val_loss: 0.1902 - val_accuracy: 0.9231\n",
            "Epoch 97/100\n",
            "4/4 [==============================] - 0s 15ms/step - loss: 0.1663 - accuracy: 0.9396 - val_loss: 0.1866 - val_accuracy: 0.9121\n",
            "Epoch 98/100\n",
            "4/4 [==============================] - 0s 16ms/step - loss: 0.1487 - accuracy: 0.9396 - val_loss: 0.2230 - val_accuracy: 0.9231\n",
            "Epoch 99/100\n",
            "4/4 [==============================] - 0s 15ms/step - loss: 0.1532 - accuracy: 0.9286 - val_loss: 0.1873 - val_accuracy: 0.9231\n",
            "Epoch 100/100\n",
            "4/4 [==============================] - 0s 14ms/step - loss: 0.1607 - accuracy: 0.9423 - val_loss: 0.1844 - val_accuracy: 0.9231\n"
          ]
        }
      ],
      "source": [
        "history = model.fit(X_train, y_train, validation_split=0.2, \n",
        "                    epochs=100, batch_size=100)"
      ]
    },
    {
      "cell_type": "markdown",
      "metadata": {
        "id": "Ckm9hN9qH_AV"
      },
      "source": [
        "- 모델 평가"
      ]
    },
    {
      "cell_type": "code",
      "execution_count": 10,
      "metadata": {
        "colab": {
          "base_uri": "https://localhost:8080/"
        },
        "id": "w9rECci3HuMF",
        "outputId": "99fab8fb-667a-4c58-f43f-180610f0f125"
      },
      "outputs": [
        {
          "name": "stdout",
          "output_type": "stream",
          "text": [
            "4/4 [==============================] - 0s 2ms/step - loss: 0.2785 - accuracy: 0.8947\n"
          ]
        },
        {
          "data": {
            "text/plain": [
              "[0.27852025628089905, 0.8947368264198303]"
            ]
          },
          "execution_count": 10,
          "metadata": {},
          "output_type": "execute_result"
        }
      ],
      "source": [
        "model.evaluate(X_test, y_test)"
      ]
    },
    {
      "cell_type": "markdown",
      "metadata": {
        "id": "Bp-gQwc5Ibpr"
      },
      "source": [
        "- 훈련과정 시각화: epoch에 따른 accuracy, val_loss의 변화"
      ]
    },
    {
      "cell_type": "code",
      "execution_count": 11,
      "metadata": {
        "id": "ik_ZC2toID8N"
      },
      "outputs": [],
      "source": [
        "y_acc = history.history['accuracy']\n",
        "y_vloss = history.history['val_loss']\n",
        "xs = np.arange(1, len(y_acc)+1)"
      ]
    },
    {
      "cell_type": "code",
      "execution_count": 12,
      "metadata": {
        "colab": {
          "base_uri": "https://localhost:8080/",
          "height": 513
        },
        "id": "hZhi8TuVJBSI",
        "outputId": "6b287b41-2dae-4d3f-e59d-7c98ca56b330"
      },
      "outputs": [
        {
          "data": {
            "image/png": "[encoded data removed]",
            "text/plain": [
              "<Figure size 864x576 with 1 Axes>"
            ]
          },
          "metadata": {
            "needs_background": "light"
          },
          "output_type": "display_data"
        }
      ],
      "source": [
        "plt.figure(figsize=(12,8))\n",
        "plt.plot(xs, y_acc, label='train_accuracy')\n",
        "plt.plot(xs, y_vloss, label='validation_loss')\n",
        "plt.legend(), plt.grid()\n",
        "plt.ylim([0,2])\n",
        "plt.xlabel('Epoch')\n",
        "plt.title('No feature transform')\n",
        "plt.show()"
      ]
    },
    {
      "cell_type": "markdown",
      "metadata": {
        "id": "7B2E_XIXKc_K"
      },
      "source": [
        "### 2. 데이터를 정규/표준화한 경우"
      ]
    },
    {
      "cell_type": "code",
      "execution_count": 13,
      "metadata": {
        "id": "6JYr_CGFJe_x"
      },
      "outputs": [],
      "source": [
        "from sklearn.preprocessing import StandardScaler\n",
        "cancer_std = StandardScaler().fit_transform(cancer.data)"
      ]
    },
    {
      "cell_type": "code",
      "execution_count": 14,
      "metadata": {
        "id": "-SUtbrHUKvVI"
      },
      "outputs": [],
      "source": [
        "from sklearn.model_selection import train_test_split\n",
        "X_train2, X_test2, y_train2, y_test2 = train_test_split(\n",
        "    cancer_std, cancer.target, stratify=cancer.target, test_size=0.2, random_state=2022\n",
        ")"
      ]
    },
    {
      "cell_type": "markdown",
      "metadata": {
        "id": "FOms1uWoK2sM"
      },
      "source": [
        "- 모델 정의"
      ]
    },
    {
      "cell_type": "code",
      "execution_count": 15,
      "metadata": {
        "colab": {
          "base_uri": "https://localhost:8080/"
        },
        "id": "-VUiNx1kK0re",
        "outputId": "bf11e6d7-2991-4650-dabe-092368877751"
      },
      "outputs": [
        {
          "name": "stdout",
          "output_type": "stream",
          "text": [
            "Model: \"sequential_1\"\n",
            "_________________________________________________________________\n",
            " Layer (type)                Output Shape              Param #   \n",
            "=================================================================\n",
            " dense_3 (Dense)             (None, 100)               3100      \n",
            "                                                                 \n",
            " dense_4 (Dense)             (None, 24)                2424      \n",
            "                                                                 \n",
            " dense_5 (Dense)             (None, 1)                 25        \n",
            "                                                                 \n",
            "=================================================================\n",
            "Total params: 5,549\n",
            "Trainable params: 5,549\n",
            "Non-trainable params: 0\n",
            "_________________________________________________________________\n"
          ]
        }
      ],
      "source": [
        "model2 = Sequential()\n",
        "model2.add(Dense(100, input_dim=30, activation='relu'))\n",
        "model2.add(Dense(24, activation='relu'))\n",
        "model2.add(Dense(1, activation='sigmoid'))\n",
        "model2.summary()"
      ]
    },
    {
      "cell_type": "code",
      "execution_count": 16,
      "metadata": {
        "id": "kZMblFzBLFlj"
      },
      "outputs": [],
      "source": [
        "# model = Sequential([\n",
        "#     Dense(100, input_shape=(30,), activation='relu'),\n",
        "#     Dense(24, activation='relu'),\n",
        "#     Dense(1, activation='sigmoid')\n",
        "# ])\n",
        "# model.summary()"
      ]
    },
    {
      "cell_type": "markdown",
      "metadata": {
        "id": "WZe8EsL0LmZ5"
      },
      "source": [
        "- 모델 설정"
      ]
    },
    {
      "cell_type": "code",
      "execution_count": 17,
      "metadata": {
        "id": "OQhAykeWLng9"
      },
      "outputs": [],
      "source": [
        "model2.compile(optimizer='adam', loss='binary_crossentropy', metrics=['accuracy'])"
      ]
    },
    {
      "cell_type": "code",
      "execution_count": 18,
      "metadata": {
        "colab": {
          "base_uri": "https://localhost:8080/"
        },
        "id": "KH1J26SeLyEc",
        "outputId": "af14afc3-dcc7-4fba-8509-2aecfb32d810"
      },
      "outputs": [
        {
          "name": "stdout",
          "output_type": "stream",
          "text": [
            "Epoch 1/100\n",
            "4/4 [==============================] - 1s 69ms/step - loss: 0.6218 - accuracy: 0.5082 - val_loss: 0.5589 - val_accuracy: 0.8132\n",
            "Epoch 2/100\n",
            "4/4 [==============================] - 0s 17ms/step - loss: 0.4898 - accuracy: 0.8571 - val_loss: 0.4570 - val_accuracy: 0.8462\n",
            "Epoch 3/100\n",
            "4/4 [==============================] - 0s 19ms/step - loss: 0.4061 - accuracy: 0.9313 - val_loss: 0.3860 - val_accuracy: 0.9011\n",
            "Epoch 4/100\n",
            "4/4 [==============================] - 0s 24ms/step - loss: 0.3412 - accuracy: 0.9368 - val_loss: 0.3322 - val_accuracy: 0.9121\n",
            "Epoch 5/100\n",
            "4/4 [==============================] - 0s 20ms/step - loss: 0.2921 - accuracy: 0.9451 - val_loss: 0.2891 - val_accuracy: 0.9341\n",
            "Epoch 6/100\n",
            "4/4 [==============================] - 0s 22ms/step - loss: 0.2515 - accuracy: 0.9533 - val_loss: 0.2537 - val_accuracy: 0.9451\n",
            "Epoch 7/100\n",
            "4/4 [==============================] - 0s 18ms/step - loss: 0.2178 - accuracy: 0.9560 - val_loss: 0.2248 - val_accuracy: 0.9451\n",
            "Epoch 8/100\n",
            "4/4 [==============================] - 0s 20ms/step - loss: 0.1896 - accuracy: 0.9560 - val_loss: 0.2018 - val_accuracy: 0.9451\n",
            "Epoch 9/100\n",
            "4/4 [==============================] - 0s 24ms/step - loss: 0.1674 - accuracy: 0.9588 - val_loss: 0.1836 - val_accuracy: 0.9451\n",
            "Epoch 10/100\n",
            "4/4 [==============================] - 0s 21ms/step - loss: 0.1483 - accuracy: 0.9643 - val_loss: 0.1696 - val_accuracy: 0.9451\n",
            "Epoch 11/100\n",
            "4/4 [==============================] - 0s 26ms/step - loss: 0.1327 - accuracy: 0.9670 - val_loss: 0.1584 - val_accuracy: 0.9451\n",
            "Epoch 12/100\n",
            "4/4 [==============================] - 0s 26ms/step - loss: 0.1202 - accuracy: 0.9698 - val_loss: 0.1503 - val_accuracy: 0.9451\n",
            "Epoch 13/100\n",
            "4/4 [==============================] - 0s 26ms/step - loss: 0.1094 - accuracy: 0.9725 - val_loss: 0.1438 - val_accuracy: 0.9341\n",
            "Epoch 14/100\n",
            "4/4 [==============================] - 0s 32ms/step - loss: 0.1010 - accuracy: 0.9753 - val_loss: 0.1393 - val_accuracy: 0.9341\n",
            "Epoch 15/100\n",
            "4/4 [==============================] - 0s 48ms/step - loss: 0.0932 - accuracy: 0.9780 - val_loss: 0.1353 - val_accuracy: 0.9341\n",
            "Epoch 16/100\n",
            "4/4 [==============================] - 0s 27ms/step - loss: 0.0875 - accuracy: 0.9808 - val_loss: 0.1319 - val_accuracy: 0.9341\n",
            "Epoch 17/100\n",
            "4/4 [==============================] - 0s 22ms/step - loss: 0.0821 - accuracy: 0.9808 - val_loss: 0.1295 - val_accuracy: 0.9560\n",
            "Epoch 18/100\n",
            "4/4 [==============================] - 0s 21ms/step - loss: 0.0777 - accuracy: 0.9835 - val_loss: 0.1275 - val_accuracy: 0.9560\n",
            "Epoch 19/100\n",
            "4/4 [==============================] - 0s 20ms/step - loss: 0.0737 - accuracy: 0.9835 - val_loss: 0.1254 - val_accuracy: 0.9670\n",
            "Epoch 20/100\n",
            "4/4 [==============================] - 0s 23ms/step - loss: 0.0703 - accuracy: 0.9835 - val_loss: 0.1233 - val_accuracy: 0.9670\n",
            "Epoch 21/100\n",
            "4/4 [==============================] - 0s 29ms/step - loss: 0.0672 - accuracy: 0.9835 - val_loss: 0.1217 - val_accuracy: 0.9670\n",
            "Epoch 22/100\n",
            "4/4 [==============================] - 0s 30ms/step - loss: 0.0646 - accuracy: 0.9835 - val_loss: 0.1203 - val_accuracy: 0.9670\n",
            "Epoch 23/100\n",
            "4/4 [==============================] - 0s 25ms/step - loss: 0.0621 - accuracy: 0.9835 - val_loss: 0.1190 - val_accuracy: 0.9670\n",
            "Epoch 24/100\n",
            "4/4 [==============================] - 0s 28ms/step - loss: 0.0599 - accuracy: 0.9863 - val_loss: 0.1183 - val_accuracy: 0.9670\n",
            "Epoch 25/100\n",
            "4/4 [==============================] - 0s 25ms/step - loss: 0.0579 - accuracy: 0.9863 - val_loss: 0.1182 - val_accuracy: 0.9670\n",
            "Epoch 26/100\n",
            "4/4 [==============================] - 0s 34ms/step - loss: 0.0558 - accuracy: 0.9863 - val_loss: 0.1174 - val_accuracy: 0.9670\n",
            "Epoch 27/100\n",
            "4/4 [==============================] - 0s 24ms/step - loss: 0.0541 - accuracy: 0.9863 - val_loss: 0.1171 - val_accuracy: 0.9560\n",
            "Epoch 28/100\n",
            "4/4 [==============================] - 0s 26ms/step - loss: 0.0525 - accuracy: 0.9863 - val_loss: 0.1167 - val_accuracy: 0.9560\n",
            "Epoch 29/100\n",
            "4/4 [==============================] - 0s 25ms/step - loss: 0.0509 - accuracy: 0.9863 - val_loss: 0.1164 - val_accuracy: 0.9451\n",
            "Epoch 30/100\n",
            "4/4 [==============================] - 0s 37ms/step - loss: 0.0496 - accuracy: 0.9863 - val_loss: 0.1154 - val_accuracy: 0.9451\n",
            "Epoch 31/100\n",
            "4/4 [==============================] - 0s 26ms/step - loss: 0.0482 - accuracy: 0.9863 - val_loss: 0.1153 - val_accuracy: 0.9451\n",
            "Epoch 32/100\n",
            "4/4 [==============================] - 0s 19ms/step - loss: 0.0468 - accuracy: 0.9863 - val_loss: 0.1154 - val_accuracy: 0.9451\n",
            "Epoch 33/100\n",
            "4/4 [==============================] - 0s 19ms/step - loss: 0.0456 - accuracy: 0.9890 - val_loss: 0.1157 - val_accuracy: 0.9451\n",
            "Epoch 34/100\n",
            "4/4 [==============================] - 0s 16ms/step - loss: 0.0443 - accuracy: 0.9890 - val_loss: 0.1158 - val_accuracy: 0.9451\n",
            "Epoch 35/100\n",
            "4/4 [==============================] - 0s 16ms/step - loss: 0.0432 - accuracy: 0.9890 - val_loss: 0.1161 - val_accuracy: 0.9451\n",
            "Epoch 36/100\n",
            "4/4 [==============================] - 0s 20ms/step - loss: 0.0421 - accuracy: 0.9890 - val_loss: 0.1155 - val_accuracy: 0.9451\n",
            "Epoch 37/100\n",
            "4/4 [==============================] - 0s 18ms/step - loss: 0.0413 - accuracy: 0.9890 - val_loss: 0.1159 - val_accuracy: 0.9451\n",
            "Epoch 38/100\n",
            "4/4 [==============================] - 0s 17ms/step - loss: 0.0400 - accuracy: 0.9890 - val_loss: 0.1157 - val_accuracy: 0.9451\n",
            "Epoch 39/100\n",
            "4/4 [==============================] - 0s 28ms/step - loss: 0.0390 - accuracy: 0.9890 - val_loss: 0.1154 - val_accuracy: 0.9451\n",
            "Epoch 40/100\n",
            "4/4 [==============================] - 0s 18ms/step - loss: 0.0379 - accuracy: 0.9890 - val_loss: 0.1155 - val_accuracy: 0.9451\n",
            "Epoch 41/100\n",
            "4/4 [==============================] - 0s 15ms/step - loss: 0.0370 - accuracy: 0.9890 - val_loss: 0.1160 - val_accuracy: 0.9451\n",
            "Epoch 42/100\n",
            "4/4 [==============================] - 0s 16ms/step - loss: 0.0361 - accuracy: 0.9890 - val_loss: 0.1162 - val_accuracy: 0.9451\n",
            "Epoch 43/100\n",
            "4/4 [==============================] - 0s 15ms/step - loss: 0.0350 - accuracy: 0.9890 - val_loss: 0.1161 - val_accuracy: 0.9451\n",
            "Epoch 44/100\n",
            "4/4 [==============================] - 0s 15ms/step - loss: 0.0341 - accuracy: 0.9918 - val_loss: 0.1166 - val_accuracy: 0.9451\n",
            "Epoch 45/100\n",
            "4/4 [==============================] - 0s 17ms/step - loss: 0.0334 - accuracy: 0.9918 - val_loss: 0.1181 - val_accuracy: 0.9341\n",
            "Epoch 46/100\n",
            "4/4 [==============================] - 0s 17ms/step - loss: 0.0324 - accuracy: 0.9918 - val_loss: 0.1179 - val_accuracy: 0.9341\n",
            "Epoch 47/100\n",
            "4/4 [==============================] - 0s 20ms/step - loss: 0.0313 - accuracy: 0.9918 - val_loss: 0.1192 - val_accuracy: 0.9341\n",
            "Epoch 48/100\n",
            "4/4 [==============================] - 0s 17ms/step - loss: 0.0303 - accuracy: 0.9918 - val_loss: 0.1203 - val_accuracy: 0.9341\n",
            "Epoch 49/100\n",
            "4/4 [==============================] - 0s 14ms/step - loss: 0.0295 - accuracy: 0.9918 - val_loss: 0.1219 - val_accuracy: 0.9341\n",
            "Epoch 50/100\n",
            "4/4 [==============================] - 0s 13ms/step - loss: 0.0288 - accuracy: 0.9918 - val_loss: 0.1234 - val_accuracy: 0.9341\n",
            "Epoch 51/100\n",
            "4/4 [==============================] - 0s 16ms/step - loss: 0.0278 - accuracy: 0.9918 - val_loss: 0.1237 - val_accuracy: 0.9341\n",
            "Epoch 52/100\n",
            "4/4 [==============================] - 0s 14ms/step - loss: 0.0271 - accuracy: 0.9918 - val_loss: 0.1243 - val_accuracy: 0.9451\n",
            "Epoch 53/100\n",
            "4/4 [==============================] - 0s 15ms/step - loss: 0.0264 - accuracy: 0.9918 - val_loss: 0.1239 - val_accuracy: 0.9451\n",
            "Epoch 54/100\n",
            "4/4 [==============================] - 0s 16ms/step - loss: 0.0255 - accuracy: 0.9918 - val_loss: 0.1252 - val_accuracy: 0.9451\n",
            "Epoch 55/100\n",
            "4/4 [==============================] - 0s 20ms/step - loss: 0.0250 - accuracy: 0.9918 - val_loss: 0.1273 - val_accuracy: 0.9451\n",
            "Epoch 56/100\n",
            "4/4 [==============================] - 0s 15ms/step - loss: 0.0241 - accuracy: 0.9918 - val_loss: 0.1280 - val_accuracy: 0.9451\n",
            "Epoch 57/100\n",
            "4/4 [==============================] - 0s 16ms/step - loss: 0.0236 - accuracy: 0.9918 - val_loss: 0.1305 - val_accuracy: 0.9451\n",
            "Epoch 58/100\n",
            "4/4 [==============================] - 0s 17ms/step - loss: 0.0227 - accuracy: 0.9918 - val_loss: 0.1310 - val_accuracy: 0.9451\n",
            "Epoch 59/100\n",
            "4/4 [==============================] - 0s 13ms/step - loss: 0.0221 - accuracy: 0.9918 - val_loss: 0.1319 - val_accuracy: 0.9451\n",
            "Epoch 60/100\n",
            "4/4 [==============================] - 0s 15ms/step - loss: 0.0214 - accuracy: 0.9918 - val_loss: 0.1331 - val_accuracy: 0.9451\n",
            "Epoch 61/100\n",
            "4/4 [==============================] - 0s 15ms/step - loss: 0.0208 - accuracy: 0.9918 - val_loss: 0.1351 - val_accuracy: 0.9451\n",
            "Epoch 62/100\n",
            "4/4 [==============================] - 0s 14ms/step - loss: 0.0201 - accuracy: 0.9918 - val_loss: 0.1358 - val_accuracy: 0.9451\n",
            "Epoch 63/100\n",
            "4/4 [==============================] - 0s 15ms/step - loss: 0.0196 - accuracy: 0.9918 - val_loss: 0.1373 - val_accuracy: 0.9451\n",
            "Epoch 64/100\n",
            "4/4 [==============================] - 0s 16ms/step - loss: 0.0189 - accuracy: 0.9945 - val_loss: 0.1385 - val_accuracy: 0.9451\n",
            "Epoch 65/100\n",
            "4/4 [==============================] - 0s 15ms/step - loss: 0.0186 - accuracy: 0.9945 - val_loss: 0.1406 - val_accuracy: 0.9451\n",
            "Epoch 66/100\n",
            "4/4 [==============================] - 0s 13ms/step - loss: 0.0179 - accuracy: 0.9945 - val_loss: 0.1410 - val_accuracy: 0.9451\n",
            "Epoch 67/100\n",
            "4/4 [==============================] - 0s 16ms/step - loss: 0.0175 - accuracy: 0.9945 - val_loss: 0.1427 - val_accuracy: 0.9451\n",
            "Epoch 68/100\n",
            "4/4 [==============================] - 0s 14ms/step - loss: 0.0169 - accuracy: 0.9945 - val_loss: 0.1426 - val_accuracy: 0.9451\n",
            "Epoch 69/100\n",
            "4/4 [==============================] - 0s 14ms/step - loss: 0.0164 - accuracy: 0.9945 - val_loss: 0.1436 - val_accuracy: 0.9451\n",
            "Epoch 70/100\n",
            "4/4 [==============================] - 0s 16ms/step - loss: 0.0160 - accuracy: 0.9973 - val_loss: 0.1463 - val_accuracy: 0.9451\n",
            "Epoch 71/100\n",
            "4/4 [==============================] - 0s 14ms/step - loss: 0.0155 - accuracy: 0.9973 - val_loss: 0.1470 - val_accuracy: 0.9451\n",
            "Epoch 72/100\n",
            "4/4 [==============================] - 0s 14ms/step - loss: 0.0150 - accuracy: 0.9973 - val_loss: 0.1483 - val_accuracy: 0.9451\n",
            "Epoch 73/100\n",
            "4/4 [==============================] - 0s 14ms/step - loss: 0.0146 - accuracy: 0.9973 - val_loss: 0.1490 - val_accuracy: 0.9451\n",
            "Epoch 74/100\n",
            "4/4 [==============================] - 0s 21ms/step - loss: 0.0142 - accuracy: 0.9973 - val_loss: 0.1500 - val_accuracy: 0.9451\n",
            "Epoch 75/100\n",
            "4/4 [==============================] - 0s 18ms/step - loss: 0.0138 - accuracy: 0.9973 - val_loss: 0.1519 - val_accuracy: 0.9451\n",
            "Epoch 76/100\n",
            "4/4 [==============================] - 0s 17ms/step - loss: 0.0135 - accuracy: 0.9973 - val_loss: 0.1554 - val_accuracy: 0.9341\n",
            "Epoch 77/100\n",
            "4/4 [==============================] - 0s 17ms/step - loss: 0.0131 - accuracy: 0.9973 - val_loss: 0.1566 - val_accuracy: 0.9451\n",
            "Epoch 78/100\n",
            "4/4 [==============================] - 0s 14ms/step - loss: 0.0127 - accuracy: 0.9973 - val_loss: 0.1567 - val_accuracy: 0.9451\n",
            "Epoch 79/100\n",
            "4/4 [==============================] - 0s 15ms/step - loss: 0.0123 - accuracy: 0.9973 - val_loss: 0.1590 - val_accuracy: 0.9451\n",
            "Epoch 80/100\n",
            "4/4 [==============================] - 0s 15ms/step - loss: 0.0119 - accuracy: 0.9973 - val_loss: 0.1598 - val_accuracy: 0.9451\n",
            "Epoch 81/100\n",
            "4/4 [==============================] - 0s 14ms/step - loss: 0.0116 - accuracy: 0.9973 - val_loss: 0.1606 - val_accuracy: 0.9451\n",
            "Epoch 82/100\n",
            "4/4 [==============================] - 0s 15ms/step - loss: 0.0112 - accuracy: 0.9973 - val_loss: 0.1629 - val_accuracy: 0.9451\n",
            "Epoch 83/100\n",
            "4/4 [==============================] - 0s 15ms/step - loss: 0.0109 - accuracy: 0.9973 - val_loss: 0.1647 - val_accuracy: 0.9451\n",
            "Epoch 84/100\n",
            "4/4 [==============================] - 0s 16ms/step - loss: 0.0106 - accuracy: 1.0000 - val_loss: 0.1644 - val_accuracy: 0.9451\n",
            "Epoch 85/100\n",
            "4/4 [==============================] - 0s 13ms/step - loss: 0.0103 - accuracy: 1.0000 - val_loss: 0.1647 - val_accuracy: 0.9451\n",
            "Epoch 86/100\n",
            "4/4 [==============================] - 0s 14ms/step - loss: 0.0100 - accuracy: 1.0000 - val_loss: 0.1648 - val_accuracy: 0.9451\n",
            "Epoch 87/100\n",
            "4/4 [==============================] - 0s 17ms/step - loss: 0.0097 - accuracy: 1.0000 - val_loss: 0.1664 - val_accuracy: 0.9451\n",
            "Epoch 88/100\n",
            "4/4 [==============================] - 0s 16ms/step - loss: 0.0094 - accuracy: 1.0000 - val_loss: 0.1672 - val_accuracy: 0.9451\n",
            "Epoch 89/100\n",
            "4/4 [==============================] - 0s 16ms/step - loss: 0.0091 - accuracy: 1.0000 - val_loss: 0.1682 - val_accuracy: 0.9451\n",
            "Epoch 90/100\n",
            "4/4 [==============================] - 0s 15ms/step - loss: 0.0089 - accuracy: 1.0000 - val_loss: 0.1690 - val_accuracy: 0.9451\n",
            "Epoch 91/100\n",
            "4/4 [==============================] - 0s 15ms/step - loss: 0.0086 - accuracy: 1.0000 - val_loss: 0.1702 - val_accuracy: 0.9451\n",
            "Epoch 92/100\n",
            "4/4 [==============================] - 0s 16ms/step - loss: 0.0084 - accuracy: 1.0000 - val_loss: 0.1725 - val_accuracy: 0.9451\n",
            "Epoch 93/100\n",
            "4/4 [==============================] - 0s 20ms/step - loss: 0.0081 - accuracy: 1.0000 - val_loss: 0.1734 - val_accuracy: 0.9451\n",
            "Epoch 94/100\n",
            "4/4 [==============================] - 0s 14ms/step - loss: 0.0079 - accuracy: 1.0000 - val_loss: 0.1725 - val_accuracy: 0.9451\n",
            "Epoch 95/100\n",
            "4/4 [==============================] - 0s 18ms/step - loss: 0.0076 - accuracy: 1.0000 - val_loss: 0.1728 - val_accuracy: 0.9451\n",
            "Epoch 96/100\n",
            "4/4 [==============================] - 0s 16ms/step - loss: 0.0073 - accuracy: 1.0000 - val_loss: 0.1746 - val_accuracy: 0.9451\n",
            "Epoch 97/100\n",
            "4/4 [==============================] - 0s 15ms/step - loss: 0.0071 - accuracy: 1.0000 - val_loss: 0.1762 - val_accuracy: 0.9451\n",
            "Epoch 98/100\n",
            "4/4 [==============================] - 0s 17ms/step - loss: 0.0069 - accuracy: 1.0000 - val_loss: 0.1780 - val_accuracy: 0.9451\n",
            "Epoch 99/100\n",
            "4/4 [==============================] - 0s 16ms/step - loss: 0.0067 - accuracy: 1.0000 - val_loss: 0.1786 - val_accuracy: 0.9451\n",
            "Epoch 100/100\n",
            "4/4 [==============================] - 0s 24ms/step - loss: 0.0064 - accuracy: 1.0000 - val_loss: 0.1799 - val_accuracy: 0.9451\n"
          ]
        }
      ],
      "source": [
        "hist2 = model2.fit(X_train2, y_train2, validation_split=0.2, \n",
        "                    epochs=100, batch_size=100)"
      ]
    },
    {
      "cell_type": "markdown",
      "metadata": {
        "id": "cprQNS6eMQcA"
      },
      "source": [
        "- 모델 평가"
      ]
    },
    {
      "cell_type": "code",
      "execution_count": 22,
      "metadata": {
        "colab": {
          "base_uri": "https://localhost:8080/"
        },
        "id": "7vqS181PMLsD",
        "outputId": "36707cd0-3049-4901-bae9-5b333c54dfd1"
      },
      "outputs": [
        {
          "name": "stdout",
          "output_type": "stream",
          "text": [
            "4/4 [==============================] - 0s 3ms/step - loss: 0.0669 - accuracy: 0.9825\n"
          ]
        },
        {
          "data": {
            "text/plain": [
              "[0.06687125563621521, 0.9824561476707458]"
            ]
          },
          "execution_count": 22,
          "metadata": {},
          "output_type": "execute_result"
        }
      ],
      "source": [
        "model2.evaluate(X_test2, y_test2)"
      ]
    },
    {
      "cell_type": "markdown",
      "metadata": {
        "id": "yD1H64OMMdSj"
      },
      "source": [
        "- 학습과정 시각화"
      ]
    },
    {
      "cell_type": "code",
      "execution_count": 24,
      "metadata": {
        "colab": {
          "base_uri": "https://localhost:8080/",
          "height": 513
        },
        "id": "4NNd7idEMWr1",
        "outputId": "124d98aa-0bbd-4aa5-d067-4c6547a47db2"
      },
      "outputs": [
        {
          "data": {
            "image/png": "[encoded data removed]",
            "text/plain": [
              "<Figure size 864x576 with 1 Axes>"
            ]
          },
          "metadata": {
            "needs_background": "light"
          },
          "output_type": "display_data"
        }
      ],
      "source": [
        "y_acc2 = hist2.history['accuracy']\n",
        "y_vloss2 = hist2.history['val_loss']\n",
        "xs2 = np.arange(1, len(y_acc2)+1)\n",
        "\n",
        "plt.figure(figsize=(12,8))\n",
        "plt.plot(xs2, y_acc2, label='train_accuracy')\n",
        "plt.plot(xs2, y_vloss2, label='validation_loss')\n",
        "plt.legend(), plt.grid()\n",
        "plt.ylim([0,1.2])\n",
        "plt.xlabel('Epoch')\n",
        "plt.title('After feature transform')\n",
        "plt.show()"
      ]
    },
    {
      "cell_type": "code",
      "execution_count": null,
      "metadata": {
        "id": "tIfIlLfdM11n"
      },
      "outputs": [],
      "source": []
    }
  ],
  "metadata": {
    "colab": {
      "collapsed_sections": [],
      "name": "01_신경망모델.ipynb",
      "provenance": []
    },
    "interpreter": {
      "hash": "79235f3c426277640c9689d2572c47b913f40843195eeba115616b689febf123"
    },
    "kernelspec": {
      "display_name": "Python 3.9.7 ('kdig')",
      "language": "python",
      "name": "python3"
    },
    "language_info": {
      "codemirror_mode": {
        "name": "ipython",
        "version": 3
      },
      "file_extension": ".py",
      "mimetype": "text/x-python",
      "name": "python",
      "nbconvert_exporter": "python",
      "pygments_lexer": "ipython3",
      "version": "3.9.7"
    }
  },
  "nbformat": 4,
  "nbformat_minor": 0
}
