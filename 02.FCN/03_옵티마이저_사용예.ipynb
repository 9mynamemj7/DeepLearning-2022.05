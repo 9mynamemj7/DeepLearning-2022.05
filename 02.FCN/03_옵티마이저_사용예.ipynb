{
  "cells": [
    {
      "cell_type": "markdown",
      "metadata": {
        "id": "7XA5Puh6W3FS"
      },
      "source": [
        "#  신경말 모델에서 옵티마이저 사용법\n",
        "### - 이진분류: 유방암 예측 사례"
      ]
    },
    {
      "cell_type": "code",
      "execution_count": 1,
      "metadata": {
        "id": "ymEeE4yQWx0A"
      },
      "outputs": [],
      "source": [
        "import numpy as np\n",
        "import matplotlib.pyplot as plt\n",
        "from sklearn.datasets import load_breast_cancer\n",
        "from sklearn.preprocessing import StandardScaler\n",
        "from sklearn.model_selection import train_test_split"
      ]
    },
    {
      "cell_type": "code",
      "execution_count": 2,
      "metadata": {
        "id": "LqngO_fBXZY9"
      },
      "outputs": [],
      "source": [
        "cancer = load_breast_cancer()\n",
        "cancer_std = StandardScaler().fit_transform(cancer.data)\n",
        "X_train, X_test, y_train, y_test = train_test_split(\n",
        "    cancer_std, cancer.target, stratify=cancer.target, test_size=0.2, random_state=2022\n",
        ")"
      ]
    },
    {
      "cell_type": "markdown",
      "metadata": {
        "id": "VYy4b8oZX1JX"
      },
      "source": [
        "### 1. Adam optimizer"
      ]
    },
    {
      "cell_type": "code",
      "execution_count": 3,
      "metadata": {
        "id": "ofYX0T8qXwY5"
      },
      "outputs": [],
      "source": [
        "from tensorflow.keras.models import Sequential\n",
        "from tensorflow.keras.layers import Dense"
      ]
    },
    {
      "cell_type": "code",
      "execution_count": 4,
      "metadata": {
        "id": "C6PZlhc8YGFu"
      },
      "outputs": [],
      "source": [
        "model = Sequential([\n",
        "    Dense(100, input_dim=30, activation='relu',),\n",
        "    Dense(24, activation='relu'),\n",
        "    Dense(1, activation='sigmoid')\n",
        "])"
      ]
    },
    {
      "cell_type": "markdown",
      "metadata": {
        "id": "3v_WjEl2YqPD"
      },
      "source": [
        "#### Adam 하이퍼 파라메터\n",
        "- learning_rate: 0보다 크거나 같은 float 값. 학습률.\n",
        "- beta_1: 0보다 크고 1보다 작은 float 값. 일반적으로 1에 가깝게 설정됩니다.\n",
        "- beta_2: 0보다 크고 1보다 작은 float 값. 일반적으로 1에 가깝게 설정됩니다.\n",
        "- epsilon: 0보다 크거나 같은 float형 fuzz factor. None인 경우 K.epsilon()이 사용됩니다.\n",
        "- decay: 0보다 크거나 같은 float 값. 업데이트마다 적용되는 학습률의 감소율입니다.\n",
        "- amsgrad: 불리언. Adam의 변형인 AMSGrad의 적용 여부를 설정합니다\n"
      ]
    },
    {
      "cell_type": "code",
      "execution_count": 5,
      "metadata": {
        "id": "cb5uAOXiYae1"
      },
      "outputs": [],
      "source": [
        "from tensorflow.keras.optimizers import Adam\n",
        "adam = Adam(learning_rate=0.001, beta_1=0.9, beta_2=0.999,\n",
        "            epsilon=None, decay=0.0, amsgrad=False)"
      ]
    },
    {
      "cell_type": "code",
      "execution_count": 6,
      "metadata": {
        "id": "HFy3RD4qaRWe"
      },
      "outputs": [],
      "source": [
        "model.compile(optimizer=adam, loss='binary_crossentropy', metrics=['accuracy'])"
      ]
    },
    {
      "cell_type": "code",
      "execution_count": 7,
      "metadata": {
        "id": "Vg7okex-ac-4"
      },
      "outputs": [],
      "source": [
        "hist = model.fit(X_train, y_train, validation_split=0.2, epochs=100, batch_size=100, verbose=0)"
      ]
    },
    {
      "cell_type": "code",
      "execution_count": 8,
      "metadata": {
        "colab": {
          "base_uri": "https://localhost:8080/"
        },
        "id": "wrtMS597arXR",
        "outputId": "065c1868-0978-4b71-b46a-11ad7585f5ae"
      },
      "outputs": [
        {
          "name": "stdout",
          "output_type": "stream",
          "text": [
            "4/4 [==============================] - 0s 2ms/step - loss: 0.0765 - accuracy: 0.9825\n"
          ]
        },
        {
          "data": {
            "text/plain": [
              "[0.07648683339357376, 0.9824561476707458]"
            ]
          },
          "execution_count": 8,
          "metadata": {},
          "output_type": "execute_result"
        }
      ],
      "source": [
        "model.evaluate(X_test, y_test)"
      ]
    },
    {
      "cell_type": "code",
      "execution_count": 9,
      "metadata": {
        "id": "YV0ugdzRa6RA"
      },
      "outputs": [],
      "source": [
        "y_acc = hist.history['accuracy']\n",
        "y_vloss = hist.history['val_loss']\n",
        "xs = np.arange(1, len(y_acc)+1)"
      ]
    },
    {
      "cell_type": "code",
      "execution_count": 10,
      "metadata": {
        "colab": {
          "base_uri": "https://localhost:8080/",
          "height": 513
        },
        "id": "OWtEC3WNbebB",
        "outputId": "4c55f83b-2166-4859-a929-dc7b060f7230"
      },
      "outputs": [
        {
          "data": {
            "image/png": "[encoded data removed]",
            "text/plain": [
              "<Figure size 864x576 with 1 Axes>"
            ]
          },
          "metadata": {
            "needs_background": "light"
          },
          "output_type": "display_data"
        }
      ],
      "source": [
        "plt.figure(figsize=(12,8))\n",
        "plt.plot(xs, y_acc, label='train_accuracy')\n",
        "plt.plot(xs, y_vloss, label='validation_loss')\n",
        "plt.legend(), plt.grid()\n",
        "plt.ylim([-1,2])\n",
        "plt.xlabel('Epoch')\n",
        "plt.title('After feature transform')\n",
        "plt.show()"
      ]
    },
    {
      "cell_type": "markdown",
      "metadata": {
        "id": "bcY5XxfKb3Ks"
      },
      "source": [
        "#### 2.RMSprop"
      ]
    },
    {
      "cell_type": "code",
      "execution_count": 11,
      "metadata": {
        "id": "JG5619Vqbvfi"
      },
      "outputs": [],
      "source": [
        "model2 = Sequential([\n",
        "    Dense(100, input_dim=30, activation='relu',),\n",
        "    Dense(24, activation='relu'),\n",
        "    Dense(1, activation='sigmoid')\n",
        "])"
      ]
    },
    {
      "cell_type": "markdown",
      "metadata": {
        "id": "33klw9XmcBYi"
      },
      "source": [
        "#### RMSprop 하이퍼 파라메터\n",
        "- lr: 0보다 크거나 같은 float 값. 학습률.\n",
        "- rho: 0보다 크거나 같은 float 값.\n",
        "- epsilon: 0보다 크거나 같은 float형 fuzz factor. None인 경우 K.epsilon()이 사용됩니다.\n",
        "- decay: 0보다 크거나 같은 float 값. 업데이트마다 적용되는 학습률의 감소율입니다."
      ]
    },
    {
      "cell_type": "code",
      "execution_count": 12,
      "metadata": {
        "id": "T6fXXwYYcL9Q"
      },
      "outputs": [],
      "source": [
        "from tensorflow.keras.optimizers import RMSprop\n",
        "rmsp = RMSprop(learning_rate=0.001, rho=0.9, epsilon=None, decay=0.0)"
      ]
    },
    {
      "cell_type": "code",
      "execution_count": 13,
      "metadata": {
        "id": "fEeZiiaLfZI6"
      },
      "outputs": [],
      "source": [
        "model2.compile(rmsp, 'binary_crossentropy', ['accuracy'])"
      ]
    },
    {
      "cell_type": "code",
      "execution_count": 14,
      "metadata": {
        "colab": {
          "base_uri": "https://localhost:8080/"
        },
        "id": "dO-bF_mvfqxX",
        "outputId": "bb2dd136-b957-44be-ee2d-fbafffe329fc"
      },
      "outputs": [
        {
          "name": "stdout",
          "output_type": "stream",
          "text": [
            "Epoch 1/100\n",
            "4/4 [==============================] - 1s 63ms/step - loss: 0.5634 - accuracy: 0.7143 - val_loss: 0.4167 - val_accuracy: 0.8571\n",
            "Epoch 2/100\n",
            "4/4 [==============================] - 0s 15ms/step - loss: 0.3611 - accuracy: 0.8956 - val_loss: 0.3220 - val_accuracy: 0.8901\n",
            "Epoch 3/100\n",
            "4/4 [==============================] - 0s 20ms/step - loss: 0.2739 - accuracy: 0.9286 - val_loss: 0.2668 - val_accuracy: 0.9011\n",
            "Epoch 4/100\n",
            "4/4 [==============================] - 0s 14ms/step - loss: 0.2202 - accuracy: 0.9505 - val_loss: 0.2269 - val_accuracy: 0.9231\n",
            "Epoch 5/100\n",
            "4/4 [==============================] - 0s 16ms/step - loss: 0.1810 - accuracy: 0.9643 - val_loss: 0.1968 - val_accuracy: 0.9231\n",
            "Epoch 6/100\n",
            "4/4 [==============================] - 0s 18ms/step - loss: 0.1527 - accuracy: 0.9698 - val_loss: 0.1757 - val_accuracy: 0.9231\n",
            "Epoch 7/100\n",
            "4/4 [==============================] - 0s 16ms/step - loss: 0.1304 - accuracy: 0.9780 - val_loss: 0.1587 - val_accuracy: 0.9451\n",
            "Epoch 8/100\n",
            "4/4 [==============================] - 0s 17ms/step - loss: 0.1139 - accuracy: 0.9780 - val_loss: 0.1475 - val_accuracy: 0.9451\n",
            "Epoch 9/100\n",
            "4/4 [==============================] - 0s 16ms/step - loss: 0.1014 - accuracy: 0.9808 - val_loss: 0.1400 - val_accuracy: 0.9560\n",
            "Epoch 10/100\n",
            "4/4 [==============================] - 0s 16ms/step - loss: 0.0901 - accuracy: 0.9780 - val_loss: 0.1343 - val_accuracy: 0.9560\n",
            "Epoch 11/100\n",
            "4/4 [==============================] - 0s 14ms/step - loss: 0.0822 - accuracy: 0.9780 - val_loss: 0.1293 - val_accuracy: 0.9560\n",
            "Epoch 12/100\n",
            "4/4 [==============================] - 0s 16ms/step - loss: 0.0757 - accuracy: 0.9808 - val_loss: 0.1276 - val_accuracy: 0.9560\n",
            "Epoch 13/100\n",
            "4/4 [==============================] - 0s 19ms/step - loss: 0.0696 - accuracy: 0.9835 - val_loss: 0.1246 - val_accuracy: 0.9560\n",
            "Epoch 14/100\n",
            "4/4 [==============================] - 0s 15ms/step - loss: 0.0644 - accuracy: 0.9835 - val_loss: 0.1219 - val_accuracy: 0.9560\n",
            "Epoch 15/100\n",
            "4/4 [==============================] - 0s 15ms/step - loss: 0.0602 - accuracy: 0.9808 - val_loss: 0.1229 - val_accuracy: 0.9560\n",
            "Epoch 16/100\n",
            "4/4 [==============================] - 0s 20ms/step - loss: 0.0566 - accuracy: 0.9835 - val_loss: 0.1190 - val_accuracy: 0.9560\n",
            "Epoch 17/100\n",
            "4/4 [==============================] - 0s 16ms/step - loss: 0.0532 - accuracy: 0.9863 - val_loss: 0.1214 - val_accuracy: 0.9560\n",
            "Epoch 18/100\n",
            "4/4 [==============================] - 0s 16ms/step - loss: 0.0510 - accuracy: 0.9863 - val_loss: 0.1230 - val_accuracy: 0.9560\n",
            "Epoch 19/100\n",
            "4/4 [==============================] - 0s 17ms/step - loss: 0.0477 - accuracy: 0.9863 - val_loss: 0.1221 - val_accuracy: 0.9560\n",
            "Epoch 20/100\n",
            "4/4 [==============================] - 0s 19ms/step - loss: 0.0450 - accuracy: 0.9863 - val_loss: 0.1199 - val_accuracy: 0.9560\n",
            "Epoch 21/100\n",
            "4/4 [==============================] - 0s 18ms/step - loss: 0.0429 - accuracy: 0.9863 - val_loss: 0.1215 - val_accuracy: 0.9560\n",
            "Epoch 22/100\n",
            "4/4 [==============================] - 0s 15ms/step - loss: 0.0400 - accuracy: 0.9863 - val_loss: 0.1219 - val_accuracy: 0.9560\n",
            "Epoch 23/100\n",
            "4/4 [==============================] - 0s 14ms/step - loss: 0.0375 - accuracy: 0.9890 - val_loss: 0.1269 - val_accuracy: 0.9560\n",
            "Epoch 24/100\n",
            "4/4 [==============================] - 0s 27ms/step - loss: 0.0358 - accuracy: 0.9863 - val_loss: 0.1247 - val_accuracy: 0.9560\n",
            "Epoch 25/100\n",
            "4/4 [==============================] - 0s 16ms/step - loss: 0.0332 - accuracy: 0.9918 - val_loss: 0.1269 - val_accuracy: 0.9560\n",
            "Epoch 26/100\n",
            "4/4 [==============================] - 0s 17ms/step - loss: 0.0316 - accuracy: 0.9918 - val_loss: 0.1295 - val_accuracy: 0.9560\n",
            "Epoch 27/100\n",
            "4/4 [==============================] - 0s 16ms/step - loss: 0.0293 - accuracy: 0.9918 - val_loss: 0.1324 - val_accuracy: 0.9560\n",
            "Epoch 28/100\n",
            "4/4 [==============================] - 0s 14ms/step - loss: 0.0283 - accuracy: 0.9918 - val_loss: 0.1367 - val_accuracy: 0.9560\n",
            "Epoch 29/100\n",
            "4/4 [==============================] - 0s 17ms/step - loss: 0.0262 - accuracy: 0.9918 - val_loss: 0.1386 - val_accuracy: 0.9451\n",
            "Epoch 30/100\n",
            "4/4 [==============================] - 0s 14ms/step - loss: 0.0245 - accuracy: 0.9918 - val_loss: 0.1417 - val_accuracy: 0.9451\n",
            "Epoch 31/100\n",
            "4/4 [==============================] - 0s 14ms/step - loss: 0.0225 - accuracy: 0.9918 - val_loss: 0.1451 - val_accuracy: 0.9451\n",
            "Epoch 32/100\n",
            "4/4 [==============================] - 0s 14ms/step - loss: 0.0217 - accuracy: 0.9918 - val_loss: 0.1517 - val_accuracy: 0.9451\n",
            "Epoch 33/100\n",
            "4/4 [==============================] - 0s 17ms/step - loss: 0.0198 - accuracy: 0.9945 - val_loss: 0.1532 - val_accuracy: 0.9451\n",
            "Epoch 34/100\n",
            "4/4 [==============================] - 0s 18ms/step - loss: 0.0189 - accuracy: 0.9918 - val_loss: 0.1564 - val_accuracy: 0.9451\n",
            "Epoch 35/100\n",
            "4/4 [==============================] - 0s 18ms/step - loss: 0.0177 - accuracy: 0.9918 - val_loss: 0.1553 - val_accuracy: 0.9451\n",
            "Epoch 36/100\n",
            "4/4 [==============================] - 0s 14ms/step - loss: 0.0160 - accuracy: 0.9945 - val_loss: 0.1604 - val_accuracy: 0.9451\n",
            "Epoch 37/100\n",
            "4/4 [==============================] - 0s 15ms/step - loss: 0.0147 - accuracy: 1.0000 - val_loss: 0.1602 - val_accuracy: 0.9451\n",
            "Epoch 38/100\n",
            "4/4 [==============================] - 0s 18ms/step - loss: 0.0137 - accuracy: 1.0000 - val_loss: 0.1634 - val_accuracy: 0.9451\n",
            "Epoch 39/100\n",
            "4/4 [==============================] - 0s 13ms/step - loss: 0.0128 - accuracy: 0.9973 - val_loss: 0.1750 - val_accuracy: 0.9451\n",
            "Epoch 40/100\n",
            "4/4 [==============================] - 0s 13ms/step - loss: 0.0114 - accuracy: 0.9973 - val_loss: 0.1777 - val_accuracy: 0.9451\n",
            "Epoch 41/100\n",
            "4/4 [==============================] - 0s 17ms/step - loss: 0.0106 - accuracy: 1.0000 - val_loss: 0.1776 - val_accuracy: 0.9451\n",
            "Epoch 42/100\n",
            "4/4 [==============================] - 0s 17ms/step - loss: 0.0099 - accuracy: 1.0000 - val_loss: 0.1898 - val_accuracy: 0.9451\n",
            "Epoch 43/100\n",
            "4/4 [==============================] - 0s 14ms/step - loss: 0.0088 - accuracy: 1.0000 - val_loss: 0.1892 - val_accuracy: 0.9451\n",
            "Epoch 44/100\n",
            "4/4 [==============================] - 0s 13ms/step - loss: 0.0082 - accuracy: 1.0000 - val_loss: 0.1962 - val_accuracy: 0.9451\n",
            "Epoch 45/100\n",
            "4/4 [==============================] - 0s 18ms/step - loss: 0.0072 - accuracy: 1.0000 - val_loss: 0.1948 - val_accuracy: 0.9451\n",
            "Epoch 46/100\n",
            "4/4 [==============================] - 0s 14ms/step - loss: 0.0075 - accuracy: 0.9973 - val_loss: 0.2081 - val_accuracy: 0.9451\n",
            "Epoch 47/100\n",
            "4/4 [==============================] - 0s 13ms/step - loss: 0.0063 - accuracy: 1.0000 - val_loss: 0.1997 - val_accuracy: 0.9451\n",
            "Epoch 48/100\n",
            "4/4 [==============================] - 0s 15ms/step - loss: 0.0057 - accuracy: 1.0000 - val_loss: 0.2093 - val_accuracy: 0.9451\n",
            "Epoch 49/100\n",
            "4/4 [==============================] - 0s 16ms/step - loss: 0.0053 - accuracy: 1.0000 - val_loss: 0.2123 - val_accuracy: 0.9451\n",
            "Epoch 50/100\n",
            "4/4 [==============================] - 0s 18ms/step - loss: 0.0049 - accuracy: 1.0000 - val_loss: 0.2195 - val_accuracy: 0.9451\n",
            "Epoch 51/100\n",
            "4/4 [==============================] - 0s 15ms/step - loss: 0.0045 - accuracy: 1.0000 - val_loss: 0.2199 - val_accuracy: 0.9451\n",
            "Epoch 52/100\n",
            "4/4 [==============================] - 0s 15ms/step - loss: 0.0039 - accuracy: 1.0000 - val_loss: 0.2179 - val_accuracy: 0.9451\n",
            "Epoch 53/100\n",
            "4/4 [==============================] - 0s 16ms/step - loss: 0.0037 - accuracy: 1.0000 - val_loss: 0.2294 - val_accuracy: 0.9451\n",
            "Epoch 54/100\n",
            "4/4 [==============================] - 0s 13ms/step - loss: 0.0037 - accuracy: 1.0000 - val_loss: 0.2385 - val_accuracy: 0.9451\n",
            "Epoch 55/100\n",
            "4/4 [==============================] - 0s 17ms/step - loss: 0.0030 - accuracy: 1.0000 - val_loss: 0.2379 - val_accuracy: 0.9451\n",
            "Epoch 56/100\n",
            "4/4 [==============================] - 0s 16ms/step - loss: 0.0029 - accuracy: 1.0000 - val_loss: 0.2367 - val_accuracy: 0.9451\n",
            "Epoch 57/100\n",
            "4/4 [==============================] - 0s 19ms/step - loss: 0.0026 - accuracy: 1.0000 - val_loss: 0.2366 - val_accuracy: 0.9451\n",
            "Epoch 58/100\n",
            "4/4 [==============================] - 0s 22ms/step - loss: 0.0024 - accuracy: 1.0000 - val_loss: 0.2489 - val_accuracy: 0.9451\n",
            "Epoch 59/100\n",
            "4/4 [==============================] - 0s 19ms/step - loss: 0.0021 - accuracy: 1.0000 - val_loss: 0.2527 - val_accuracy: 0.9451\n",
            "Epoch 60/100\n",
            "4/4 [==============================] - 0s 19ms/step - loss: 0.0019 - accuracy: 1.0000 - val_loss: 0.2478 - val_accuracy: 0.9451\n",
            "Epoch 61/100\n",
            "4/4 [==============================] - 0s 16ms/step - loss: 0.0017 - accuracy: 1.0000 - val_loss: 0.2443 - val_accuracy: 0.9451\n",
            "Epoch 62/100\n",
            "4/4 [==============================] - 0s 13ms/step - loss: 0.0015 - accuracy: 1.0000 - val_loss: 0.2520 - val_accuracy: 0.9451\n",
            "Epoch 63/100\n",
            "4/4 [==============================] - 0s 14ms/step - loss: 0.0014 - accuracy: 1.0000 - val_loss: 0.2510 - val_accuracy: 0.9451\n",
            "Epoch 64/100\n",
            "4/4 [==============================] - 0s 15ms/step - loss: 0.0012 - accuracy: 1.0000 - val_loss: 0.2599 - val_accuracy: 0.9451\n",
            "Epoch 65/100\n",
            "4/4 [==============================] - 0s 16ms/step - loss: 0.0011 - accuracy: 1.0000 - val_loss: 0.2655 - val_accuracy: 0.9451\n",
            "Epoch 66/100\n",
            "4/4 [==============================] - 0s 18ms/step - loss: 0.0011 - accuracy: 1.0000 - val_loss: 0.2611 - val_accuracy: 0.9451\n",
            "Epoch 67/100\n",
            "4/4 [==============================] - 0s 15ms/step - loss: 9.4941e-04 - accuracy: 1.0000 - val_loss: 0.2671 - val_accuracy: 0.9451\n",
            "Epoch 68/100\n",
            "4/4 [==============================] - 0s 14ms/step - loss: 8.3195e-04 - accuracy: 1.0000 - val_loss: 0.2782 - val_accuracy: 0.9451\n",
            "Epoch 69/100\n",
            "4/4 [==============================] - 0s 20ms/step - loss: 6.8909e-04 - accuracy: 1.0000 - val_loss: 0.2638 - val_accuracy: 0.9451\n",
            "Epoch 70/100\n",
            "4/4 [==============================] - 0s 22ms/step - loss: 7.2710e-04 - accuracy: 1.0000 - val_loss: 0.2678 - val_accuracy: 0.9451\n",
            "Epoch 71/100\n",
            "4/4 [==============================] - 0s 25ms/step - loss: 6.5611e-04 - accuracy: 1.0000 - val_loss: 0.2741 - val_accuracy: 0.9451\n",
            "Epoch 72/100\n",
            "4/4 [==============================] - 0s 22ms/step - loss: 5.0890e-04 - accuracy: 1.0000 - val_loss: 0.2707 - val_accuracy: 0.9451\n",
            "Epoch 73/100\n",
            "4/4 [==============================] - 0s 19ms/step - loss: 4.4391e-04 - accuracy: 1.0000 - val_loss: 0.2767 - val_accuracy: 0.9451\n",
            "Epoch 74/100\n",
            "4/4 [==============================] - 0s 20ms/step - loss: 4.2548e-04 - accuracy: 1.0000 - val_loss: 0.2869 - val_accuracy: 0.9451\n",
            "Epoch 75/100\n",
            "4/4 [==============================] - 0s 21ms/step - loss: 4.0716e-04 - accuracy: 1.0000 - val_loss: 0.2844 - val_accuracy: 0.9451\n",
            "Epoch 76/100\n",
            "4/4 [==============================] - 0s 20ms/step - loss: 3.3942e-04 - accuracy: 1.0000 - val_loss: 0.2827 - val_accuracy: 0.9451\n",
            "Epoch 77/100\n",
            "4/4 [==============================] - 0s 22ms/step - loss: 3.3833e-04 - accuracy: 1.0000 - val_loss: 0.2892 - val_accuracy: 0.9451\n",
            "Epoch 78/100\n",
            "4/4 [==============================] - 0s 17ms/step - loss: 2.6020e-04 - accuracy: 1.0000 - val_loss: 0.2751 - val_accuracy: 0.9451\n",
            "Epoch 79/100\n",
            "4/4 [==============================] - 0s 15ms/step - loss: 2.3455e-04 - accuracy: 1.0000 - val_loss: 0.2949 - val_accuracy: 0.9451\n",
            "Epoch 80/100\n",
            "4/4 [==============================] - 0s 19ms/step - loss: 2.2163e-04 - accuracy: 1.0000 - val_loss: 0.2927 - val_accuracy: 0.9451\n",
            "Epoch 81/100\n",
            "4/4 [==============================] - 0s 18ms/step - loss: 1.8183e-04 - accuracy: 1.0000 - val_loss: 0.2863 - val_accuracy: 0.9451\n",
            "Epoch 82/100\n",
            "4/4 [==============================] - 0s 20ms/step - loss: 1.7763e-04 - accuracy: 1.0000 - val_loss: 0.3026 - val_accuracy: 0.9451\n",
            "Epoch 83/100\n",
            "4/4 [==============================] - 0s 20ms/step - loss: 2.0747e-04 - accuracy: 1.0000 - val_loss: 0.3108 - val_accuracy: 0.9451\n",
            "Epoch 84/100\n",
            "4/4 [==============================] - 0s 29ms/step - loss: 1.2768e-04 - accuracy: 1.0000 - val_loss: 0.2990 - val_accuracy: 0.9451\n",
            "Epoch 85/100\n",
            "4/4 [==============================] - 0s 28ms/step - loss: 1.1637e-04 - accuracy: 1.0000 - val_loss: 0.3060 - val_accuracy: 0.9451\n",
            "Epoch 86/100\n",
            "4/4 [==============================] - 0s 24ms/step - loss: 1.0516e-04 - accuracy: 1.0000 - val_loss: 0.3018 - val_accuracy: 0.9451\n",
            "Epoch 87/100\n",
            "4/4 [==============================] - 0s 22ms/step - loss: 1.0341e-04 - accuracy: 1.0000 - val_loss: 0.3059 - val_accuracy: 0.9451\n",
            "Epoch 88/100\n",
            "4/4 [==============================] - 0s 17ms/step - loss: 7.6729e-05 - accuracy: 1.0000 - val_loss: 0.3133 - val_accuracy: 0.9451\n",
            "Epoch 89/100\n",
            "4/4 [==============================] - 0s 17ms/step - loss: 7.6092e-05 - accuracy: 1.0000 - val_loss: 0.3185 - val_accuracy: 0.9451\n",
            "Epoch 90/100\n",
            "4/4 [==============================] - 0s 23ms/step - loss: 7.0366e-05 - accuracy: 1.0000 - val_loss: 0.3317 - val_accuracy: 0.9451\n",
            "Epoch 91/100\n",
            "4/4 [==============================] - 0s 24ms/step - loss: 5.6457e-05 - accuracy: 1.0000 - val_loss: 0.3214 - val_accuracy: 0.9451\n",
            "Epoch 92/100\n",
            "4/4 [==============================] - 0s 16ms/step - loss: 5.3220e-05 - accuracy: 1.0000 - val_loss: 0.3162 - val_accuracy: 0.9451\n",
            "Epoch 93/100\n",
            "4/4 [==============================] - 0s 20ms/step - loss: 4.1374e-05 - accuracy: 1.0000 - val_loss: 0.3292 - val_accuracy: 0.9451\n",
            "Epoch 94/100\n",
            "4/4 [==============================] - 0s 19ms/step - loss: 4.2538e-05 - accuracy: 1.0000 - val_loss: 0.3377 - val_accuracy: 0.9451\n",
            "Epoch 95/100\n",
            "4/4 [==============================] - 0s 23ms/step - loss: 4.0438e-05 - accuracy: 1.0000 - val_loss: 0.3448 - val_accuracy: 0.9451\n",
            "Epoch 96/100\n",
            "4/4 [==============================] - 0s 24ms/step - loss: 4.8689e-05 - accuracy: 1.0000 - val_loss: 0.3534 - val_accuracy: 0.9451\n",
            "Epoch 97/100\n",
            "4/4 [==============================] - 0s 18ms/step - loss: 2.4565e-05 - accuracy: 1.0000 - val_loss: 0.3427 - val_accuracy: 0.9451\n",
            "Epoch 98/100\n",
            "4/4 [==============================] - 0s 20ms/step - loss: 2.1921e-05 - accuracy: 1.0000 - val_loss: 0.3354 - val_accuracy: 0.9451\n",
            "Epoch 99/100\n",
            "4/4 [==============================] - 0s 17ms/step - loss: 2.0467e-05 - accuracy: 1.0000 - val_loss: 0.3408 - val_accuracy: 0.9451\n",
            "Epoch 100/100\n",
            "4/4 [==============================] - 0s 14ms/step - loss: 1.8579e-05 - accuracy: 1.0000 - val_loss: 0.3498 - val_accuracy: 0.9451\n"
          ]
        }
      ],
      "source": [
        "hist2 = model2.fit(X_train, y_train, validation_split=0.2,\n",
        "                   epochs=100, batch_size=100, verbose=1)"
      ]
    },
    {
      "cell_type": "code",
      "execution_count": 15,
      "metadata": {
        "colab": {
          "base_uri": "https://localhost:8080/"
        },
        "id": "fxPKoFoSf9x-",
        "outputId": "ceb2e594-8f2f-4324-a85b-15f15eb284bf"
      },
      "outputs": [
        {
          "name": "stdout",
          "output_type": "stream",
          "text": [
            "4/4 [==============================] - 0s 2ms/step - loss: 0.1088 - accuracy: 0.9825\n"
          ]
        },
        {
          "data": {
            "text/plain": [
              "[0.10875752568244934, 0.9824561476707458]"
            ]
          },
          "execution_count": 15,
          "metadata": {},
          "output_type": "execute_result"
        }
      ],
      "source": [
        "model2.evaluate(X_test, y_test)"
      ]
    },
    {
      "cell_type": "code",
      "execution_count": 16,
      "metadata": {
        "id": "ljXg7Cd5gHCG"
      },
      "outputs": [],
      "source": [
        "y_acc2 = hist2.history['accuracy']\n",
        "y_vloss2 = hist2.history['val_loss']\n",
        "xs2 = np.arange(1, len(y_acc2)+1)"
      ]
    },
    {
      "cell_type": "code",
      "execution_count": 17,
      "metadata": {
        "colab": {
          "base_uri": "https://localhost:8080/",
          "height": 513
        },
        "id": "2fWdqav6gXVL",
        "outputId": "2e37014e-0501-4419-b6ed-cb62895d875a"
      },
      "outputs": [
        {
          "data": {
            "image/png": "[encoded data removed]",
            "text/plain": [
              "<Figure size 864x576 with 1 Axes>"
            ]
          },
          "metadata": {
            "needs_background": "light"
          },
          "output_type": "display_data"
        }
      ],
      "source": [
        "plt.figure(figsize=(12,8))\n",
        "plt.plot(xs2, y_acc2, label='train_accuracy')\n",
        "plt.plot(xs2, y_vloss2, label='validation_loss')\n",
        "plt.legend(), plt.grid()\n",
        "plt.ylim([0,1.1])\n",
        "plt.xlabel('Epoch')\n",
        "plt.title('Adam optimizer')\n",
        "plt.show()"
      ]
    },
    {
      "cell_type": "code",
      "execution_count": 20,
      "metadata": {
        "colab": {
          "base_uri": "https://localhost:8080/",
          "height": 535
        },
        "id": "RygZlGcagbiw",
        "outputId": "7bc195a0-e737-47c6-c783-cd073e479c92"
      },
      "outputs": [
        {
          "data": {
            "image/png": "[encoded data removed]",
            "text/plain": [
              "<Figure size 1440x576 with 2 Axes>"
            ]
          },
          "metadata": {
            "needs_background": "light"
          },
          "output_type": "display_data"
        }
      ],
      "source": [
        "plt.figure(figsize=(20,8))\n",
        "plt.subplot(121)\n",
        "plt.plot(xs, y_acc, label='train_accuracy')\n",
        "plt.plot(xs, y_vloss, label='validation_loss')\n",
        "plt.legend(), plt.grid()\n",
        "plt.ylim([0,1.1])\n",
        "plt.xlabel('Epoch')\n",
        "plt.title('Adam optimizer')\n",
        "\n",
        "plt.subplot(122)\n",
        "plt.plot(xs2, y_acc2, label='train_accuracy')\n",
        "plt.plot(xs2, y_vloss2, label='validation_loss')\n",
        "plt.legend(), plt.grid()\n",
        "plt.ylim([0,1.1])\n",
        "plt.xlabel('Epoch')\n",
        "plt.title('RMSP optimizer')\n",
        "plt.show()"
      ]
    },
    {
      "cell_type": "code",
      "execution_count": null,
      "metadata": {
        "id": "LHaRYstyg9xw"
      },
      "outputs": [],
      "source": []
    }
  ],
  "metadata": {
    "colab": {
      "collapsed_sections": [],
      "name": "03_옵티마이저_사용예.ipynb",
      "provenance": []
    },
    "interpreter": {
      "hash": "79235f3c426277640c9689d2572c47b913f40843195eeba115616b689febf123"
    },
    "kernelspec": {
      "display_name": "Python 3.9.7 ('kdig')",
      "language": "python",
      "name": "python3"
    },
    "language_info": {
      "codemirror_mode": {
        "name": "ipython",
        "version": 3
      },
      "file_extension": ".py",
      "mimetype": "text/x-python",
      "name": "python",
      "nbconvert_exporter": "python",
      "pygments_lexer": "ipython3",
      "version": "3.9.7"
    }
  },
  "nbformat": 4,
  "nbformat_minor": 0
}
