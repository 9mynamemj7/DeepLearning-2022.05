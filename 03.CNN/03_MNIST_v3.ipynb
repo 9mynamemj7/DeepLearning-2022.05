{
  "nbformat": 4,
  "nbformat_minor": 0,
  "metadata": {
    "colab": {
      "name": "03_MNIST_v3.ipynb",
      "provenance": [],
      "collapsed_sections": []
    },
    "kernelspec": {
      "name": "python3",
      "display_name": "Python 3"
    },
    "language_info": {
      "name": "python"
    },
    "accelerator": "GPU"
  },
  "cells": [
    {
      "cell_type": "markdown",
      "source": [
        "# MNIST 손글씨 - CNN v3\n",
        "- 2 x Conv2D layers\n",
        "- 1 MaxPooling2D layer\n",
        "- 1 Dropout(0.25) layer\n",
        "- 1 FCN layer\n",
        "- 1 Dropout(0.5) layer\n",
        "- 1 Output layer"
      ],
      "metadata": {
        "id": "VqVL2dgMd3fm"
      }
    },
    {
      "cell_type": "code",
      "execution_count": 1,
      "metadata": {
        "id": "d46npStQYp6c"
      },
      "outputs": [],
      "source": [
        "import numpy as np\n",
        "import pandas as pd\n",
        "import matplotlib.pyplot as plt\n",
        "import tensorflow as tf\n",
        "seed = 2022\n",
        "np.random.seed(seed)\n",
        "tf.random.set_seed(seed)"
      ]
    },
    {
      "cell_type": "markdown",
      "source": [
        "- 데이터 전처리"
      ],
      "metadata": {
        "id": "5Oo3wng2qd77"
      }
    },
    {
      "cell_type": "code",
      "source": [
        "from tensorflow.keras.datasets import mnist\n",
        "(X_train, y_train), (X_test, y_test) = mnist.load_data()\n",
        "X_train.shape, y_train.shape, X_test.shape, y_test.shape"
      ],
      "metadata": {
        "colab": {
          "base_uri": "https://localhost:8080/"
        },
        "id": "2L7GLWY1eklh",
        "outputId": "e34b7f37-2876-438a-9cdd-4a7720d755ab"
      },
      "execution_count": 2,
      "outputs": [
        {
          "output_type": "stream",
          "name": "stdout",
          "text": [
            "Downloading data from https://storage.googleapis.com/tensorflow/tf-keras-datasets/mnist.npz\n",
            "11493376/11490434 [==============================] - 0s 0us/step\n",
            "11501568/11490434 [==============================] - 0s 0us/step\n"
          ]
        },
        {
          "output_type": "execute_result",
          "data": {
            "text/plain": [
              "((60000, 28, 28), (60000,), (10000, 28, 28), (10000,))"
            ]
          },
          "metadata": {},
          "execution_count": 2
        }
      ]
    },
    {
      "cell_type": "code",
      "source": [
        "# X_train, X_test 정규화 (0 ~ 1), 이미지 차원 변경: 2차원 --> 3차원\n",
        "X_train = X_train.reshape(-1, 28, 28, 1) / 255.\n",
        "X_test = X_test.reshape(-1, 28, 28, 1) / 255.\n",
        "X_train.shape, X_test.shape"
      ],
      "metadata": {
        "colab": {
          "base_uri": "https://localhost:8080/"
        },
        "id": "fKYyur05elas",
        "outputId": "a71d7091-3b90-45c1-a057-88f97f17d725"
      },
      "execution_count": 3,
      "outputs": [
        {
          "output_type": "execute_result",
          "data": {
            "text/plain": [
              "((60000, 28, 28, 1), (10000, 28, 28, 1))"
            ]
          },
          "metadata": {},
          "execution_count": 3
        }
      ]
    },
    {
      "cell_type": "code",
      "source": [
        "# One hot encoding\n",
        "from tensorflow.keras.utils import to_categorical\n",
        "Y_train = to_categorical(y_train)\n",
        "Y_test = to_categorical(y_test)\n",
        "Y_train.shape, Y_test.shape"
      ],
      "metadata": {
        "colab": {
          "base_uri": "https://localhost:8080/"
        },
        "id": "XHK5GLQPe_fY",
        "outputId": "88de8f0d-73c3-48ee-f175-2b3943a162cb"
      },
      "execution_count": 4,
      "outputs": [
        {
          "output_type": "execute_result",
          "data": {
            "text/plain": [
              "((60000, 10), (10000, 10))"
            ]
          },
          "metadata": {},
          "execution_count": 4
        }
      ]
    },
    {
      "cell_type": "markdown",
      "source": [
        "- 모델 정의/설정/학습/평가"
      ],
      "metadata": {
        "id": "7906mzzafGIb"
      }
    },
    {
      "cell_type": "code",
      "source": [
        "from tensorflow.keras.models import Sequential, load_model\n",
        "from tensorflow.keras.layers import Dense, Conv2D, Flatten, MaxPooling2D, Dropout\n",
        "from tensorflow.keras.callbacks import ModelCheckpoint, EarlyStopping"
      ],
      "metadata": {
        "id": "PcusYZv2fA9O"
      },
      "execution_count": 6,
      "outputs": []
    },
    {
      "cell_type": "code",
      "source": [
        "model = Sequential([\n",
        "    Conv2D(32, kernel_size=(3,3), input_shape=(28,28,1), activation='relu'),\n",
        "    Conv2D(64, (3,3), activation='relu'),\n",
        "    MaxPooling2D(),                          # MaxPooling2D(pool_size=(2,2))\n",
        "    Dropout(0.25),\n",
        "    Flatten(),\n",
        "    Dense(512, activation='relu'),\n",
        "    Dropout(0.5),\n",
        "    Dense(10, activation='softmax')\n",
        "])\n",
        "model.summary()"
      ],
      "metadata": {
        "colab": {
          "base_uri": "https://localhost:8080/"
        },
        "id": "JTYwAJpsfr1H",
        "outputId": "81897703-a21c-4711-d5a7-86bba45882f7"
      },
      "execution_count": 8,
      "outputs": [
        {
          "output_type": "stream",
          "name": "stdout",
          "text": [
            "Model: \"sequential\"\n",
            "_________________________________________________________________\n",
            " Layer (type)                Output Shape              Param #   \n",
            "=================================================================\n",
            " conv2d (Conv2D)             (None, 26, 26, 32)        320       \n",
            "                                                                 \n",
            " conv2d_1 (Conv2D)           (None, 24, 24, 64)        18496     \n",
            "                                                                 \n",
            " max_pooling2d (MaxPooling2D  (None, 12, 12, 64)       0         \n",
            " )                                                               \n",
            "                                                                 \n",
            " dropout (Dropout)           (None, 12, 12, 64)        0         \n",
            "                                                                 \n",
            " flatten (Flatten)           (None, 9216)              0         \n",
            "                                                                 \n",
            " dense (Dense)               (None, 512)               4719104   \n",
            "                                                                 \n",
            " dropout_1 (Dropout)         (None, 512)               0         \n",
            "                                                                 \n",
            " dense_1 (Dense)             (None, 10)                5130      \n",
            "                                                                 \n",
            "=================================================================\n",
            "Total params: 4,743,050\n",
            "Trainable params: 4,743,050\n",
            "Non-trainable params: 0\n",
            "_________________________________________________________________\n"
          ]
        }
      ]
    },
    {
      "cell_type": "code",
      "source": [
        "model.compile('adam', 'categorical_crossentropy', ['accuracy'])"
      ],
      "metadata": {
        "id": "b5C04CVjhok9"
      },
      "execution_count": 9,
      "outputs": []
    },
    {
      "cell_type": "code",
      "source": [
        "model_path = 'best-mnist-cnn-v3.h5'\n",
        "mc = ModelCheckpoint(model_path, save_best_only=True, verbose=1)\n",
        "es = EarlyStopping(patience=10)"
      ],
      "metadata": {
        "id": "1iPo89tTi52f"
      },
      "execution_count": 10,
      "outputs": []
    },
    {
      "cell_type": "code",
      "source": [
        "hist = model.fit(\n",
        "    X_train, Y_train, validation_split=0.2, epochs=100, batch_size=200,\n",
        "    callbacks=[mc,es]\n",
        ")"
      ],
      "metadata": {
        "colab": {
          "base_uri": "https://localhost:8080/"
        },
        "id": "e0M20Z_7ll_z",
        "outputId": "c2e56425-f8e3-43ca-8d74-29d32a06b071"
      },
      "execution_count": 11,
      "outputs": [
        {
          "output_type": "stream",
          "name": "stdout",
          "text": [
            "Epoch 1/100\n",
            "237/240 [============================>.] - ETA: 0s - loss: 0.2222 - accuracy: 0.9315\n",
            "Epoch 1: val_loss improved from inf to 0.05612, saving model to best-mnist-cnn-v3.h5\n",
            "240/240 [==============================] - 14s 15ms/step - loss: 0.2204 - accuracy: 0.9321 - val_loss: 0.0561 - val_accuracy: 0.9837\n",
            "Epoch 2/100\n",
            "239/240 [============================>.] - ETA: 0s - loss: 0.0623 - accuracy: 0.9809\n",
            "Epoch 2: val_loss improved from 0.05612 to 0.04882, saving model to best-mnist-cnn-v3.h5\n",
            "240/240 [==============================] - 3s 14ms/step - loss: 0.0622 - accuracy: 0.9809 - val_loss: 0.0488 - val_accuracy: 0.9860\n",
            "Epoch 3/100\n",
            "239/240 [============================>.] - ETA: 0s - loss: 0.0439 - accuracy: 0.9863\n",
            "Epoch 3: val_loss improved from 0.04882 to 0.03815, saving model to best-mnist-cnn-v3.h5\n",
            "240/240 [==============================] - 3s 14ms/step - loss: 0.0439 - accuracy: 0.9863 - val_loss: 0.0382 - val_accuracy: 0.9892\n",
            "Epoch 4/100\n",
            "236/240 [============================>.] - ETA: 0s - loss: 0.0340 - accuracy: 0.9891\n",
            "Epoch 4: val_loss improved from 0.03815 to 0.03737, saving model to best-mnist-cnn-v3.h5\n",
            "240/240 [==============================] - 3s 14ms/step - loss: 0.0341 - accuracy: 0.9890 - val_loss: 0.0374 - val_accuracy: 0.9895\n",
            "Epoch 5/100\n",
            "240/240 [==============================] - ETA: 0s - loss: 0.0273 - accuracy: 0.9912\n",
            "Epoch 5: val_loss did not improve from 0.03737\n",
            "240/240 [==============================] - 3s 13ms/step - loss: 0.0273 - accuracy: 0.9912 - val_loss: 0.0391 - val_accuracy: 0.9890\n",
            "Epoch 6/100\n",
            "237/240 [============================>.] - ETA: 0s - loss: 0.0220 - accuracy: 0.9930\n",
            "Epoch 6: val_loss improved from 0.03737 to 0.03672, saving model to best-mnist-cnn-v3.h5\n",
            "240/240 [==============================] - 3s 14ms/step - loss: 0.0220 - accuracy: 0.9929 - val_loss: 0.0367 - val_accuracy: 0.9894\n",
            "Epoch 7/100\n",
            "238/240 [============================>.] - ETA: 0s - loss: 0.0201 - accuracy: 0.9935\n",
            "Epoch 7: val_loss improved from 0.03672 to 0.03306, saving model to best-mnist-cnn-v3.h5\n",
            "240/240 [==============================] - 3s 14ms/step - loss: 0.0200 - accuracy: 0.9935 - val_loss: 0.0331 - val_accuracy: 0.9903\n",
            "Epoch 8/100\n",
            "240/240 [==============================] - ETA: 0s - loss: 0.0177 - accuracy: 0.9940\n",
            "Epoch 8: val_loss did not improve from 0.03306\n",
            "240/240 [==============================] - 3s 13ms/step - loss: 0.0177 - accuracy: 0.9940 - val_loss: 0.0384 - val_accuracy: 0.9903\n",
            "Epoch 9/100\n",
            "237/240 [============================>.] - ETA: 0s - loss: 0.0174 - accuracy: 0.9942\n",
            "Epoch 9: val_loss did not improve from 0.03306\n",
            "240/240 [==============================] - 3s 13ms/step - loss: 0.0173 - accuracy: 0.9942 - val_loss: 0.0335 - val_accuracy: 0.9912\n",
            "Epoch 10/100\n",
            "240/240 [==============================] - ETA: 0s - loss: 0.0126 - accuracy: 0.9959\n",
            "Epoch 10: val_loss did not improve from 0.03306\n",
            "240/240 [==============================] - 3s 13ms/step - loss: 0.0126 - accuracy: 0.9959 - val_loss: 0.0404 - val_accuracy: 0.9895\n",
            "Epoch 11/100\n",
            "238/240 [============================>.] - ETA: 0s - loss: 0.0116 - accuracy: 0.9964\n",
            "Epoch 11: val_loss did not improve from 0.03306\n",
            "240/240 [==============================] - 3s 13ms/step - loss: 0.0116 - accuracy: 0.9964 - val_loss: 0.0408 - val_accuracy: 0.9899\n",
            "Epoch 12/100\n",
            "238/240 [============================>.] - ETA: 0s - loss: 0.0116 - accuracy: 0.9960\n",
            "Epoch 12: val_loss did not improve from 0.03306\n",
            "240/240 [==============================] - 3s 13ms/step - loss: 0.0115 - accuracy: 0.9961 - val_loss: 0.0346 - val_accuracy: 0.9915\n",
            "Epoch 13/100\n",
            "240/240 [==============================] - ETA: 0s - loss: 0.0103 - accuracy: 0.9965\n",
            "Epoch 13: val_loss did not improve from 0.03306\n",
            "240/240 [==============================] - 3s 14ms/step - loss: 0.0103 - accuracy: 0.9965 - val_loss: 0.0358 - val_accuracy: 0.9920\n",
            "Epoch 14/100\n",
            "239/240 [============================>.] - ETA: 0s - loss: 0.0100 - accuracy: 0.9962\n",
            "Epoch 14: val_loss did not improve from 0.03306\n",
            "240/240 [==============================] - 3s 13ms/step - loss: 0.0101 - accuracy: 0.9962 - val_loss: 0.0347 - val_accuracy: 0.9917\n",
            "Epoch 15/100\n",
            "239/240 [============================>.] - ETA: 0s - loss: 0.0089 - accuracy: 0.9969\n",
            "Epoch 15: val_loss did not improve from 0.03306\n",
            "240/240 [==============================] - 3s 13ms/step - loss: 0.0089 - accuracy: 0.9969 - val_loss: 0.0376 - val_accuracy: 0.9909\n",
            "Epoch 16/100\n",
            "239/240 [============================>.] - ETA: 0s - loss: 0.0095 - accuracy: 0.9968\n",
            "Epoch 16: val_loss did not improve from 0.03306\n",
            "240/240 [==============================] - 3s 13ms/step - loss: 0.0094 - accuracy: 0.9968 - val_loss: 0.0404 - val_accuracy: 0.9902\n",
            "Epoch 17/100\n",
            "237/240 [============================>.] - ETA: 0s - loss: 0.0070 - accuracy: 0.9974\n",
            "Epoch 17: val_loss did not improve from 0.03306\n",
            "240/240 [==============================] - 3s 13ms/step - loss: 0.0070 - accuracy: 0.9974 - val_loss: 0.0396 - val_accuracy: 0.9917\n"
          ]
        }
      ]
    },
    {
      "cell_type": "code",
      "source": [
        "best_model = load_model(model_path)\n",
        "best_model.evaluate(X_test, Y_test)"
      ],
      "metadata": {
        "colab": {
          "base_uri": "https://localhost:8080/"
        },
        "id": "Fau14KFmmYJi",
        "outputId": "96de1067-1ee3-46dd-a547-222758cc68b5"
      },
      "execution_count": 12,
      "outputs": [
        {
          "output_type": "stream",
          "name": "stdout",
          "text": [
            "313/313 [==============================] - 1s 3ms/step - loss: 0.0241 - accuracy: 0.9917\n"
          ]
        },
        {
          "output_type": "execute_result",
          "data": {
            "text/plain": [
              "[0.024141905829310417, 0.9916999936103821]"
            ]
          },
          "metadata": {},
          "execution_count": 12
        }
      ]
    },
    {
      "cell_type": "markdown",
      "source": [
        "- 학습과정 시각화"
      ],
      "metadata": {
        "id": "Anfcu2HunTYY"
      }
    },
    {
      "cell_type": "code",
      "source": [
        "y_acc = hist.history['accuracy']\n",
        "y_vloss = hist.history['val_loss']\n",
        "xs = np.arange(1, len(y_acc)+1)"
      ],
      "metadata": {
        "id": "E729nxgZnSHy"
      },
      "execution_count": 13,
      "outputs": []
    },
    {
      "cell_type": "code",
      "source": [
        "plt.figure(figsize=(12,8))\n",
        "plt.title('MNIST CNN model v3', size=20)\n",
        "plt.plot(xs, y_acc, label='train accuracy')\n",
        "plt.plot(xs, y_vloss, label='validation loss')\n",
        "\n",
        "\n",
        "# plt.plot(xs, y_vloss1, label='validation loss')\n",
        "plt.legend(), plt.grid(), plt.xlabel('Epoch')\n",
        "plt.show()"
      ],
      "metadata": {
        "colab": {
          "base_uri": "https://localhost:8080/",
          "height": 517
        },
        "id": "ZkQrT03xn6OM",
        "outputId": "5f3e56f4-e9ec-4a46-d805-922e69cd6bd2"
      },
      "execution_count": 15,
      "outputs": [
        {
          "output_type": "display_data",
          "data": {
            "text/plain": [
              "<Figure size 864x576 with 1 Axes>"
            ],
            "image/png": "[encoded data removed]"
          },
          "metadata": {
            "needs_background": "light"
          }
        }
      ]
    },
    {
      "cell_type": "code",
      "source": [
        ""
      ],
      "metadata": {
        "id": "vC_vZrXMroue"
      },
      "execution_count": null,
      "outputs": []
    }
  ]
}