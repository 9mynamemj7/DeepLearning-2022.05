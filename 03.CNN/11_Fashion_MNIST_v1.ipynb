{
  "nbformat": 4,
  "nbformat_minor": 0,
  "metadata": {
    "colab": {
      "name": "11_Fashion_MNIST_v1.ipynb",
      "provenance": [],
      "collapsed_sections": []
    },
    "kernelspec": {
      "name": "python3",
      "display_name": "Python 3"
    },
    "language_info": {
      "name": "python"
    },
    "accelerator": "GPU"
  },
  "cells": [
    {
      "cell_type": "markdown",
      "source": [
        "# Fashion MNIST - CNN v1\n",
        "- 2 x Conv2D layers\n",
        "- 1 MaxPooling2D layer\n",
        "- 1 Dropout(0.25) layer\n",
        "- 1 FCN layer\n",
        "- 1 Dropout(0.5) layer\n",
        "- 1 Output layer"
      ],
      "metadata": {
        "id": "YnsUcBTJzFTv"
      }
    },
    {
      "cell_type": "code",
      "execution_count": 1,
      "metadata": {
        "id": "dlgmAfI7yZDT"
      },
      "outputs": [],
      "source": [
        "import numpy as np\n",
        "import pandas as pd\n",
        "import matplotlib.pyplot as plt\n",
        "import tensorflow as tf\n",
        "seed = 2022\n",
        "np.random.seed(seed)\n",
        "tf.random.set_seed(seed)"
      ]
    },
    {
      "cell_type": "markdown",
      "source": [
        "- 데이터 전처리"
      ],
      "metadata": {
        "id": "KnUh6Yj2zadJ"
      }
    },
    {
      "cell_type": "code",
      "source": [
        "from tensorflow.keras.datasets import fashion_mnist\n",
        "(X_train, y_train), (X_test, y_test) = fashion_mnist.load_data()\n",
        "X_train.shape, y_train.shape, X_test.shape, y_test.shape"
      ],
      "metadata": {
        "colab": {
          "base_uri": "https://localhost:8080/"
        },
        "id": "BPNRjS3XzSX3",
        "outputId": "582d3b17-9b85-44ed-c83b-3e6141f775f8"
      },
      "execution_count": 2,
      "outputs": [
        {
          "output_type": "stream",
          "name": "stdout",
          "text": [
            "Downloading data from https://storage.googleapis.com/tensorflow/tf-keras-datasets/train-labels-idx1-ubyte.gz\n",
            "32768/29515 [=================================] - 0s 0us/step\n",
            "40960/29515 [=========================================] - 0s 0us/step\n",
            "Downloading data from https://storage.googleapis.com/tensorflow/tf-keras-datasets/train-images-idx3-ubyte.gz\n",
            "26427392/26421880 [==============================] - 0s 0us/step\n",
            "26435584/26421880 [==============================] - 0s 0us/step\n",
            "Downloading data from https://storage.googleapis.com/tensorflow/tf-keras-datasets/t10k-labels-idx1-ubyte.gz\n",
            "16384/5148 [===============================================================================================] - 0s 0us/step\n",
            "Downloading data from https://storage.googleapis.com/tensorflow/tf-keras-datasets/t10k-images-idx3-ubyte.gz\n",
            "4423680/4422102 [==============================] - 0s 0us/step\n",
            "4431872/4422102 [==============================] - 0s 0us/step\n"
          ]
        },
        {
          "output_type": "execute_result",
          "data": {
            "text/plain": [
              "((60000, 28, 28), (60000,), (10000, 28, 28), (10000,))"
            ]
          },
          "metadata": {},
          "execution_count": 2
        }
      ]
    },
    {
      "cell_type": "code",
      "source": [
        "plt.imshow(X_train[0], cmap='Greys');"
      ],
      "metadata": {
        "colab": {
          "base_uri": "https://localhost:8080/",
          "height": 265
        },
        "id": "-345qPj6zZva",
        "outputId": "cee3ef88-9528-49c4-e2af-fd98041a09aa"
      },
      "execution_count": 3,
      "outputs": [
        {
          "output_type": "display_data",
          "data": {
            "text/plain": [
              "<Figure size 432x288 with 1 Axes>"
            ],
            "image/png": "[encoded data removed]"
          },
          "metadata": {
            "needs_background": "light"
          }
        }
      ]
    },
    {
      "cell_type": "code",
      "source": [
        "class_names = ['T-shirt/top', 'Trouser', 'Pullover', 'Dress', 'Coat',\n",
        "               'Sandal', 'Shirt', 'Sneaker', 'Bag', 'Ankle boot']"
      ],
      "metadata": {
        "id": "iD_DJBQUzh6u"
      },
      "execution_count": 4,
      "outputs": []
    },
    {
      "cell_type": "code",
      "source": [
        "plt.figure(figsize=(13,5))\n",
        "for i in range(1, 11):\n",
        "    plt.subplot(2, 5, i)\n",
        "    plt.imshow(X_train[i], cmap='Greys')\n",
        "    plt.title(class_names[y_train[i]])\n",
        "    plt.xticks([]), plt.yticks([])\n",
        "plt.show()"
      ],
      "metadata": {
        "colab": {
          "base_uri": "https://localhost:8080/",
          "height": 322
        },
        "id": "H9EGzaR6zsRx",
        "outputId": "9271f99d-bb7c-4351-95bc-93e2b66427c3"
      },
      "execution_count": 5,
      "outputs": [
        {
          "output_type": "display_data",
          "data": {
            "text/plain": [
              "<Figure size 936x360 with 10 Axes>"
            ],
            "image/png": "[encoded data removed]"
          },
          "metadata": {}
        }
      ]
    },
    {
      "cell_type": "code",
      "source": [
        "# X_train, X_test 정규화 (0 ~ 1), 이미지 차원 변경: 2차원 --> 3차원\n",
        "X_train = X_train.reshape(-1, 28, 28, 1) / 255.\n",
        "X_test = X_test.reshape(-1, 28, 28, 1) / 255.\n",
        "X_train.shape, X_test.shape"
      ],
      "metadata": {
        "colab": {
          "base_uri": "https://localhost:8080/"
        },
        "id": "odfA_FcW1CIn",
        "outputId": "4ac209c1-ae80-401a-a37e-efe54c61a4a2"
      },
      "execution_count": 6,
      "outputs": [
        {
          "output_type": "execute_result",
          "data": {
            "text/plain": [
              "((60000, 28, 28, 1), (10000, 28, 28, 1))"
            ]
          },
          "metadata": {},
          "execution_count": 6
        }
      ]
    },
    {
      "cell_type": "code",
      "source": [
        "# One hot encoding\n",
        "from tensorflow.keras.utils import to_categorical\n",
        "Y_train = to_categorical(y_train)\n",
        "Y_test = to_categorical(y_test)\n",
        "Y_train.shape, Y_test.shape"
      ],
      "metadata": {
        "colab": {
          "base_uri": "https://localhost:8080/"
        },
        "id": "t3TxQEls1F7H",
        "outputId": "8ebfa3f1-d8b4-4830-cf1f-0f2644679dd2"
      },
      "execution_count": 7,
      "outputs": [
        {
          "output_type": "execute_result",
          "data": {
            "text/plain": [
              "((60000, 10), (10000, 10))"
            ]
          },
          "metadata": {},
          "execution_count": 7
        }
      ]
    },
    {
      "cell_type": "markdown",
      "source": [
        "- 모델 정의/설정/학습/평가"
      ],
      "metadata": {
        "id": "8eCUjtdj07bu"
      }
    },
    {
      "cell_type": "code",
      "source": [
        "from tensorflow.keras.models import Sequential, load_model\n",
        "from tensorflow.keras.layers import Dense, Conv2D, Flatten, MaxPooling2D, Dropout\n",
        "from tensorflow.keras.callbacks import ModelCheckpoint, EarlyStopping"
      ],
      "metadata": {
        "id": "lqaTmgNT04JN"
      },
      "execution_count": 8,
      "outputs": []
    },
    {
      "cell_type": "code",
      "source": [
        "model = Sequential([\n",
        "    Conv2D(32, kernel_size=(3,3), input_shape=(28,28,1), activation='relu'),\n",
        "    Conv2D(64, (3,3), activation='relu'),\n",
        "    MaxPooling2D(),                          # MaxPooling2D(pool_size=(2,2))\n",
        "    Dropout(0.25),\n",
        "    Flatten(),\n",
        "    Dense(512, activation='relu'),\n",
        "    Dropout(0.5),\n",
        "    Dense(10, activation='softmax')\n",
        "])\n",
        "model.summary()"
      ],
      "metadata": {
        "colab": {
          "base_uri": "https://localhost:8080/"
        },
        "id": "DuBhi8UH04EK",
        "outputId": "391d73a5-86f1-4359-8c8e-a907af64fa63"
      },
      "execution_count": 9,
      "outputs": [
        {
          "output_type": "stream",
          "name": "stdout",
          "text": [
            "Model: \"sequential\"\n",
            "_________________________________________________________________\n",
            " Layer (type)                Output Shape              Param #   \n",
            "=================================================================\n",
            " conv2d (Conv2D)             (None, 26, 26, 32)        320       \n",
            "                                                                 \n",
            " conv2d_1 (Conv2D)           (None, 24, 24, 64)        18496     \n",
            "                                                                 \n",
            " max_pooling2d (MaxPooling2D  (None, 12, 12, 64)       0         \n",
            " )                                                               \n",
            "                                                                 \n",
            " dropout (Dropout)           (None, 12, 12, 64)        0         \n",
            "                                                                 \n",
            " flatten (Flatten)           (None, 9216)              0         \n",
            "                                                                 \n",
            " dense (Dense)               (None, 512)               4719104   \n",
            "                                                                 \n",
            " dropout_1 (Dropout)         (None, 512)               0         \n",
            "                                                                 \n",
            " dense_1 (Dense)             (None, 10)                5130      \n",
            "                                                                 \n",
            "=================================================================\n",
            "Total params: 4,743,050\n",
            "Trainable params: 4,743,050\n",
            "Non-trainable params: 0\n",
            "_________________________________________________________________\n"
          ]
        }
      ]
    },
    {
      "cell_type": "code",
      "source": [
        "model.compile('adam', 'categorical_crossentropy', ['accuracy'])"
      ],
      "metadata": {
        "id": "9l0u6q3M0Uz1"
      },
      "execution_count": 10,
      "outputs": []
    },
    {
      "cell_type": "code",
      "source": [
        "model_path = 'best-mnist-cnn-v3.h5'\n",
        "mc = ModelCheckpoint(model_path, save_best_only=True, verbose=1)\n",
        "es = EarlyStopping(patience=10)"
      ],
      "metadata": {
        "id": "d9Kx84Ew008N"
      },
      "execution_count": 11,
      "outputs": []
    },
    {
      "cell_type": "code",
      "source": [
        "hist = model.fit(\n",
        "    X_train, Y_train, validation_split=0.2, epochs=100, batch_size=200,\n",
        "    callbacks=[mc,es]\n",
        ")"
      ],
      "metadata": {
        "colab": {
          "base_uri": "https://localhost:8080/"
        },
        "id": "ozcKIE-x02Pa",
        "outputId": "9e424e88-b57c-4cf3-c9af-c8dbc433bfe8"
      },
      "execution_count": 12,
      "outputs": [
        {
          "output_type": "stream",
          "name": "stdout",
          "text": [
            "Epoch 1/100\n",
            "237/240 [============================>.] - ETA: 0s - loss: 0.5026 - accuracy: 0.8216\n",
            "Epoch 1: val_loss improved from inf to 0.31967, saving model to best-mnist-cnn-v3.h5\n",
            "240/240 [==============================] - 15s 15ms/step - loss: 0.5013 - accuracy: 0.8221 - val_loss: 0.3197 - val_accuracy: 0.8848\n",
            "Epoch 2/100\n",
            "240/240 [==============================] - ETA: 0s - loss: 0.3132 - accuracy: 0.8865\n",
            "Epoch 2: val_loss improved from 0.31967 to 0.27503, saving model to best-mnist-cnn-v3.h5\n",
            "240/240 [==============================] - 3s 14ms/step - loss: 0.3132 - accuracy: 0.8865 - val_loss: 0.2750 - val_accuracy: 0.8981\n",
            "Epoch 3/100\n",
            "238/240 [============================>.] - ETA: 0s - loss: 0.2601 - accuracy: 0.9057\n",
            "Epoch 3: val_loss improved from 0.27503 to 0.23798, saving model to best-mnist-cnn-v3.h5\n",
            "240/240 [==============================] - 3s 14ms/step - loss: 0.2607 - accuracy: 0.9053 - val_loss: 0.2380 - val_accuracy: 0.9122\n",
            "Epoch 4/100\n",
            "240/240 [==============================] - ETA: 0s - loss: 0.2277 - accuracy: 0.9154\n",
            "Epoch 4: val_loss improved from 0.23798 to 0.23422, saving model to best-mnist-cnn-v3.h5\n",
            "240/240 [==============================] - 3s 14ms/step - loss: 0.2277 - accuracy: 0.9154 - val_loss: 0.2342 - val_accuracy: 0.9128\n",
            "Epoch 5/100\n",
            "237/240 [============================>.] - ETA: 0s - loss: 0.2031 - accuracy: 0.9249\n",
            "Epoch 5: val_loss improved from 0.23422 to 0.22749, saving model to best-mnist-cnn-v3.h5\n",
            "240/240 [==============================] - 3s 14ms/step - loss: 0.2031 - accuracy: 0.9248 - val_loss: 0.2275 - val_accuracy: 0.9158\n",
            "Epoch 6/100\n",
            "238/240 [============================>.] - ETA: 0s - loss: 0.1822 - accuracy: 0.9337\n",
            "Epoch 6: val_loss improved from 0.22749 to 0.21505, saving model to best-mnist-cnn-v3.h5\n",
            "240/240 [==============================] - 3s 14ms/step - loss: 0.1823 - accuracy: 0.9336 - val_loss: 0.2151 - val_accuracy: 0.9207\n",
            "Epoch 7/100\n",
            "239/240 [============================>.] - ETA: 0s - loss: 0.1598 - accuracy: 0.9405\n",
            "Epoch 7: val_loss improved from 0.21505 to 0.20235, saving model to best-mnist-cnn-v3.h5\n",
            "240/240 [==============================] - 3s 14ms/step - loss: 0.1601 - accuracy: 0.9402 - val_loss: 0.2023 - val_accuracy: 0.9278\n",
            "Epoch 8/100\n",
            "240/240 [==============================] - ETA: 0s - loss: 0.1409 - accuracy: 0.9498\n",
            "Epoch 8: val_loss improved from 0.20235 to 0.20124, saving model to best-mnist-cnn-v3.h5\n",
            "240/240 [==============================] - 3s 14ms/step - loss: 0.1409 - accuracy: 0.9498 - val_loss: 0.2012 - val_accuracy: 0.9287\n",
            "Epoch 9/100\n",
            "237/240 [============================>.] - ETA: 0s - loss: 0.1294 - accuracy: 0.9527\n",
            "Epoch 9: val_loss did not improve from 0.20124\n",
            "240/240 [==============================] - 3s 13ms/step - loss: 0.1294 - accuracy: 0.9527 - val_loss: 0.2025 - val_accuracy: 0.9297\n",
            "Epoch 10/100\n",
            "237/240 [============================>.] - ETA: 0s - loss: 0.1104 - accuracy: 0.9593\n",
            "Epoch 10: val_loss did not improve from 0.20124\n",
            "240/240 [==============================] - 3s 14ms/step - loss: 0.1104 - accuracy: 0.9593 - val_loss: 0.2211 - val_accuracy: 0.9250\n",
            "Epoch 11/100\n",
            "239/240 [============================>.] - ETA: 0s - loss: 0.1004 - accuracy: 0.9630\n",
            "Epoch 11: val_loss did not improve from 0.20124\n",
            "240/240 [==============================] - 3s 13ms/step - loss: 0.1004 - accuracy: 0.9630 - val_loss: 0.2160 - val_accuracy: 0.9304\n",
            "Epoch 12/100\n",
            "237/240 [============================>.] - ETA: 0s - loss: 0.0909 - accuracy: 0.9666\n",
            "Epoch 12: val_loss did not improve from 0.20124\n",
            "240/240 [==============================] - 3s 13ms/step - loss: 0.0909 - accuracy: 0.9667 - val_loss: 0.2094 - val_accuracy: 0.9308\n",
            "Epoch 13/100\n",
            "240/240 [==============================] - ETA: 0s - loss: 0.0789 - accuracy: 0.9704\n",
            "Epoch 13: val_loss did not improve from 0.20124\n",
            "240/240 [==============================] - 3s 14ms/step - loss: 0.0789 - accuracy: 0.9704 - val_loss: 0.2203 - val_accuracy: 0.9312\n",
            "Epoch 14/100\n",
            "238/240 [============================>.] - ETA: 0s - loss: 0.0737 - accuracy: 0.9732\n",
            "Epoch 14: val_loss did not improve from 0.20124\n",
            "240/240 [==============================] - 4s 15ms/step - loss: 0.0737 - accuracy: 0.9732 - val_loss: 0.2289 - val_accuracy: 0.9332\n",
            "Epoch 15/100\n",
            "240/240 [==============================] - ETA: 0s - loss: 0.0702 - accuracy: 0.9743\n",
            "Epoch 15: val_loss did not improve from 0.20124\n",
            "240/240 [==============================] - 3s 14ms/step - loss: 0.0702 - accuracy: 0.9743 - val_loss: 0.2332 - val_accuracy: 0.9326\n",
            "Epoch 16/100\n",
            "240/240 [==============================] - ETA: 0s - loss: 0.0612 - accuracy: 0.9769\n",
            "Epoch 16: val_loss did not improve from 0.20124\n",
            "240/240 [==============================] - 3s 14ms/step - loss: 0.0612 - accuracy: 0.9769 - val_loss: 0.2369 - val_accuracy: 0.9295\n",
            "Epoch 17/100\n",
            "240/240 [==============================] - ETA: 0s - loss: 0.0563 - accuracy: 0.9789\n",
            "Epoch 17: val_loss did not improve from 0.20124\n",
            "240/240 [==============================] - 3s 14ms/step - loss: 0.0563 - accuracy: 0.9789 - val_loss: 0.2674 - val_accuracy: 0.9287\n",
            "Epoch 18/100\n",
            "236/240 [============================>.] - ETA: 0s - loss: 0.0498 - accuracy: 0.9824\n",
            "Epoch 18: val_loss did not improve from 0.20124\n",
            "240/240 [==============================] - 3s 14ms/step - loss: 0.0501 - accuracy: 0.9822 - val_loss: 0.2601 - val_accuracy: 0.9309\n"
          ]
        }
      ]
    },
    {
      "cell_type": "code",
      "source": [
        "best_model = load_model(model_path)\n",
        "best_model.evaluate(X_test, Y_test)"
      ],
      "metadata": {
        "colab": {
          "base_uri": "https://localhost:8080/"
        },
        "id": "uVwn1GZO1IdX",
        "outputId": "10ce26bf-52cd-407d-ccba-9ae957ac8a15"
      },
      "execution_count": 13,
      "outputs": [
        {
          "output_type": "stream",
          "name": "stdout",
          "text": [
            "313/313 [==============================] - 1s 3ms/step - loss: 0.2130 - accuracy: 0.9252\n"
          ]
        },
        {
          "output_type": "execute_result",
          "data": {
            "text/plain": [
              "[0.21299609541893005, 0.9251999855041504]"
            ]
          },
          "metadata": {},
          "execution_count": 13
        }
      ]
    },
    {
      "cell_type": "markdown",
      "source": [
        "- 학습과정 시각화"
      ],
      "metadata": {
        "id": "9cVCRmk91J7Q"
      }
    },
    {
      "cell_type": "code",
      "source": [
        "y_acc = hist.history['accuracy']\n",
        "y_vloss = hist.history['val_loss']\n",
        "xs = np.arange(1, len(y_acc)+1)"
      ],
      "metadata": {
        "id": "yMIlXCrb1Llv"
      },
      "execution_count": 14,
      "outputs": []
    },
    {
      "cell_type": "code",
      "source": [
        "plt.figure(figsize=(12,8))\n",
        "plt.title('Fashion MNIST CNN model v1', size=20)\n",
        "plt.plot(xs, y_acc, label='train accuracy')\n",
        "plt.plot(xs, y_vloss, label='validation loss')\n",
        "\n",
        "\n",
        "# plt.plot(xs, y_vloss1, label='validation loss')\n",
        "plt.legend(), plt.grid(), plt.xlabel('Epoch')\n",
        "plt.show()"
      ],
      "metadata": {
        "colab": {
          "base_uri": "https://localhost:8080/",
          "height": 518
        },
        "id": "67n_TWNe1Ncp",
        "outputId": "d08f4eb5-080e-47a4-a896-baa99c04dd3d"
      },
      "execution_count": 15,
      "outputs": [
        {
          "output_type": "display_data",
          "data": {
            "text/plain": [
              "<Figure size 864x576 with 1 Axes>"
            ],
            "image/png": "[encoded data removed]"
          },
          "metadata": {
            "needs_background": "light"
          }
        }
      ]
    }
  ]
}