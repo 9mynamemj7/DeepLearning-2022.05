{
  "nbformat": 4,
  "nbformat_minor": 0,
  "metadata": {
    "colab": {
      "name": "02_MNIST_v1.ipynb",
      "provenance": [],
      "collapsed_sections": []
    },
    "kernelspec": {
      "name": "python3",
      "display_name": "Python 3"
    },
    "language_info": {
      "name": "python"
    },
    "accelerator": "GPU"
  },
  "cells": [
    {
      "cell_type": "markdown",
      "source": [
        "# MNIST 손글씨 - CNN v2\n",
        "- 2 x Conv2D layers\n",
        "- 1 MaxPooling2D layer\n",
        "- 1 FCN layer\n",
        "- 1 Output layer"
      ],
      "metadata": {
        "id": "VqVL2dgMd3fm"
      }
    },
    {
      "cell_type": "code",
      "execution_count": 1,
      "metadata": {
        "id": "d46npStQYp6c"
      },
      "outputs": [],
      "source": [
        "import numpy as np\n",
        "import pandas as pd\n",
        "import matplotlib.pyplot as plt\n",
        "import tensorflow as tf\n",
        "seed = 2022\n",
        "np.random.seed(seed)\n",
        "tf.random.set_seed(seed)"
      ]
    },
    {
      "cell_type": "markdown",
      "source": [
        "- 데이터 전처리"
      ],
      "metadata": {
        "id": "5Oo3wng2qd77"
      }
    },
    {
      "cell_type": "code",
      "source": [
        "from tensorflow.keras.datasets import mnist\n",
        "(X_train, y_train), (X_test, y_test) = mnist.load_data()\n",
        "X_train.shape, y_train.shape, X_test.shape, y_test.shape"
      ],
      "metadata": {
        "colab": {
          "base_uri": "https://localhost:8080/"
        },
        "id": "2L7GLWY1eklh",
        "outputId": "ec107548-efb0-42b1-a491-887fc2ee28f5"
      },
      "execution_count": 2,
      "outputs": [
        {
          "output_type": "stream",
          "name": "stdout",
          "text": [
            "Downloading data from https://storage.googleapis.com/tensorflow/tf-keras-datasets/mnist.npz\n",
            "11493376/11490434 [==============================] - 0s 0us/step\n",
            "11501568/11490434 [==============================] - 0s 0us/step\n"
          ]
        },
        {
          "output_type": "execute_result",
          "data": {
            "text/plain": [
              "((60000, 28, 28), (60000,), (10000, 28, 28), (10000,))"
            ]
          },
          "metadata": {},
          "execution_count": 2
        }
      ]
    },
    {
      "cell_type": "code",
      "source": [
        "# X_train, X_test 정규화 (0 ~ 1), 이미지 차원 변경: 2차원 --> 3차원\n",
        "X_train = X_train.reshape(-1, 28, 28, 1) / 255.\n",
        "X_test = X_test.reshape(-1, 28, 28, 1) / 255.\n",
        "X_train.shape, X_test.shape"
      ],
      "metadata": {
        "colab": {
          "base_uri": "https://localhost:8080/"
        },
        "id": "fKYyur05elas",
        "outputId": "b36d6322-897e-429c-9e09-1f6b67777dae"
      },
      "execution_count": 3,
      "outputs": [
        {
          "output_type": "execute_result",
          "data": {
            "text/plain": [
              "((60000, 28, 28, 1), (10000, 28, 28, 1))"
            ]
          },
          "metadata": {},
          "execution_count": 3
        }
      ]
    },
    {
      "cell_type": "code",
      "source": [
        "# One hot encoding\n",
        "from tensorflow.keras.utils import to_categorical\n",
        "Y_train = to_categorical(y_train)\n",
        "Y_test = to_categorical(y_test)\n",
        "Y_train.shape, Y_test.shape"
      ],
      "metadata": {
        "colab": {
          "base_uri": "https://localhost:8080/"
        },
        "id": "XHK5GLQPe_fY",
        "outputId": "6507eb59-7cbd-4cec-b0d0-9341e4255b48"
      },
      "execution_count": 4,
      "outputs": [
        {
          "output_type": "execute_result",
          "data": {
            "text/plain": [
              "((60000, 10), (10000, 10))"
            ]
          },
          "metadata": {},
          "execution_count": 4
        }
      ]
    },
    {
      "cell_type": "markdown",
      "source": [
        "- 모델 정의/설정/학습/평가"
      ],
      "metadata": {
        "id": "7906mzzafGIb"
      }
    },
    {
      "cell_type": "code",
      "source": [
        "from tensorflow.keras.models import Sequential, load_model\n",
        "from tensorflow.keras.layers import Dense, Conv2D, Flatten, MaxPooling2D\n",
        "from tensorflow.keras.callbacks import ModelCheckpoint, EarlyStopping"
      ],
      "metadata": {
        "id": "PcusYZv2fA9O"
      },
      "execution_count": 5,
      "outputs": []
    },
    {
      "cell_type": "code",
      "source": [
        "model = Sequential([\n",
        "    Conv2D(32, kernel_size=(3,3), input_shape=(28,28,1), activation='relu'),\n",
        "    Conv2D(64, (3,3), activation='relu'),\n",
        "    MaxPooling2D(),                          # MaxPooling2D(pool_size=(2,2))\n",
        "    Flatten(),\n",
        "    Dense(512, activation='relu'),\n",
        "    Dense(10, activation='softmax')\n",
        "])\n",
        "model.summary()"
      ],
      "metadata": {
        "colab": {
          "base_uri": "https://localhost:8080/"
        },
        "id": "JTYwAJpsfr1H",
        "outputId": "7a1d0bf0-bf15-44a2-b773-a9f8a0edb0cc"
      },
      "execution_count": 6,
      "outputs": [
        {
          "output_type": "stream",
          "name": "stdout",
          "text": [
            "Model: \"sequential\"\n",
            "_________________________________________________________________\n",
            " Layer (type)                Output Shape              Param #   \n",
            "=================================================================\n",
            " conv2d (Conv2D)             (None, 26, 26, 32)        320       \n",
            "                                                                 \n",
            " conv2d_1 (Conv2D)           (None, 24, 24, 64)        18496     \n",
            "                                                                 \n",
            " max_pooling2d (MaxPooling2D  (None, 12, 12, 64)       0         \n",
            " )                                                               \n",
            "                                                                 \n",
            " flatten (Flatten)           (None, 9216)              0         \n",
            "                                                                 \n",
            " dense (Dense)               (None, 512)               4719104   \n",
            "                                                                 \n",
            " dense_1 (Dense)             (None, 10)                5130      \n",
            "                                                                 \n",
            "=================================================================\n",
            "Total params: 4,743,050\n",
            "Trainable params: 4,743,050\n",
            "Non-trainable params: 0\n",
            "_________________________________________________________________\n"
          ]
        }
      ]
    },
    {
      "cell_type": "code",
      "source": [
        "model.compile('adam', 'categorical_crossentropy', ['accuracy'])"
      ],
      "metadata": {
        "id": "b5C04CVjhok9"
      },
      "execution_count": 7,
      "outputs": []
    },
    {
      "cell_type": "code",
      "source": [
        "model_path = 'best-mnist-cnn-v2.h5'\n",
        "mc = ModelCheckpoint(model_path, save_best_only=True, verbose=1)\n",
        "es = EarlyStopping(patience=10)"
      ],
      "metadata": {
        "id": "1iPo89tTi52f"
      },
      "execution_count": 8,
      "outputs": []
    },
    {
      "cell_type": "code",
      "source": [
        "hist = model.fit(\n",
        "    X_train, Y_train, validation_split=0.2, epochs=100, batch_size=200,\n",
        "    callbacks=[mc,es]\n",
        ")"
      ],
      "metadata": {
        "colab": {
          "base_uri": "https://localhost:8080/"
        },
        "id": "e0M20Z_7ll_z",
        "outputId": "4cb7d1f8-19da-43a4-bfe7-f50535710f7c"
      },
      "execution_count": 9,
      "outputs": [
        {
          "output_type": "stream",
          "name": "stdout",
          "text": [
            "Epoch 1/100\n",
            "236/240 [============================>.] - ETA: 0s - loss: 0.1847 - accuracy: 0.9432\n",
            "Epoch 1: val_loss improved from inf to 0.06040, saving model to best-mnist-cnn-v2.h5\n",
            "240/240 [==============================] - 15s 15ms/step - loss: 0.1827 - accuracy: 0.9438 - val_loss: 0.0604 - val_accuracy: 0.9818\n",
            "Epoch 2/100\n",
            "238/240 [============================>.] - ETA: 0s - loss: 0.0440 - accuracy: 0.9864\n",
            "Epoch 2: val_loss improved from 0.06040 to 0.05487, saving model to best-mnist-cnn-v2.h5\n",
            "240/240 [==============================] - 3s 14ms/step - loss: 0.0440 - accuracy: 0.9864 - val_loss: 0.0549 - val_accuracy: 0.9848\n",
            "Epoch 3/100\n",
            "239/240 [============================>.] - ETA: 0s - loss: 0.0260 - accuracy: 0.9914\n",
            "Epoch 3: val_loss improved from 0.05487 to 0.03853, saving model to best-mnist-cnn-v2.h5\n",
            "240/240 [==============================] - 3s 14ms/step - loss: 0.0260 - accuracy: 0.9915 - val_loss: 0.0385 - val_accuracy: 0.9893\n",
            "Epoch 4/100\n",
            "238/240 [============================>.] - ETA: 0s - loss: 0.0172 - accuracy: 0.9940\n",
            "Epoch 4: val_loss did not improve from 0.03853\n",
            "240/240 [==============================] - 3s 13ms/step - loss: 0.0172 - accuracy: 0.9940 - val_loss: 0.0437 - val_accuracy: 0.9864\n",
            "Epoch 5/100\n",
            "237/240 [============================>.] - ETA: 0s - loss: 0.0114 - accuracy: 0.9962\n",
            "Epoch 5: val_loss did not improve from 0.03853\n",
            "240/240 [==============================] - 3s 13ms/step - loss: 0.0114 - accuracy: 0.9962 - val_loss: 0.0484 - val_accuracy: 0.9870\n",
            "Epoch 6/100\n",
            "239/240 [============================>.] - ETA: 0s - loss: 0.0098 - accuracy: 0.9969\n",
            "Epoch 6: val_loss did not improve from 0.03853\n",
            "240/240 [==============================] - 3s 13ms/step - loss: 0.0098 - accuracy: 0.9969 - val_loss: 0.0397 - val_accuracy: 0.9901\n",
            "Epoch 7/100\n",
            "238/240 [============================>.] - ETA: 0s - loss: 0.0077 - accuracy: 0.9974\n",
            "Epoch 7: val_loss did not improve from 0.03853\n",
            "240/240 [==============================] - 3s 13ms/step - loss: 0.0077 - accuracy: 0.9974 - val_loss: 0.0551 - val_accuracy: 0.9858\n",
            "Epoch 8/100\n",
            "238/240 [============================>.] - ETA: 0s - loss: 0.0056 - accuracy: 0.9983\n",
            "Epoch 8: val_loss did not improve from 0.03853\n",
            "240/240 [==============================] - 3s 13ms/step - loss: 0.0057 - accuracy: 0.9983 - val_loss: 0.0464 - val_accuracy: 0.9889\n",
            "Epoch 9/100\n",
            "239/240 [============================>.] - ETA: 0s - loss: 0.0036 - accuracy: 0.9988\n",
            "Epoch 9: val_loss did not improve from 0.03853\n",
            "240/240 [==============================] - 3s 14ms/step - loss: 0.0036 - accuracy: 0.9988 - val_loss: 0.0471 - val_accuracy: 0.9898\n",
            "Epoch 10/100\n",
            "236/240 [============================>.] - ETA: 0s - loss: 0.0029 - accuracy: 0.9991\n",
            "Epoch 10: val_loss did not improve from 0.03853\n",
            "240/240 [==============================] - 3s 13ms/step - loss: 0.0031 - accuracy: 0.9990 - val_loss: 0.0595 - val_accuracy: 0.9882\n",
            "Epoch 11/100\n",
            "236/240 [============================>.] - ETA: 0s - loss: 0.0068 - accuracy: 0.9975\n",
            "Epoch 11: val_loss did not improve from 0.03853\n",
            "240/240 [==============================] - 3s 13ms/step - loss: 0.0068 - accuracy: 0.9975 - val_loss: 0.0956 - val_accuracy: 0.9776\n",
            "Epoch 12/100\n",
            "239/240 [============================>.] - ETA: 0s - loss: 0.0033 - accuracy: 0.9989\n",
            "Epoch 12: val_loss did not improve from 0.03853\n",
            "240/240 [==============================] - 3s 13ms/step - loss: 0.0033 - accuracy: 0.9989 - val_loss: 0.0463 - val_accuracy: 0.9893\n",
            "Epoch 13/100\n",
            "238/240 [============================>.] - ETA: 0s - loss: 0.0029 - accuracy: 0.9990\n",
            "Epoch 13: val_loss did not improve from 0.03853\n",
            "240/240 [==============================] - 3s 14ms/step - loss: 0.0029 - accuracy: 0.9990 - val_loss: 0.0533 - val_accuracy: 0.9891\n"
          ]
        }
      ]
    },
    {
      "cell_type": "code",
      "source": [
        "best_model = load_model(model_path)\n",
        "best_model.evaluate(X_test, Y_test)"
      ],
      "metadata": {
        "colab": {
          "base_uri": "https://localhost:8080/"
        },
        "id": "Fau14KFmmYJi",
        "outputId": "9b624e2e-ad19-4d18-e0c4-1c897fb3bf55"
      },
      "execution_count": 10,
      "outputs": [
        {
          "output_type": "stream",
          "name": "stdout",
          "text": [
            "313/313 [==============================] - 1s 3ms/step - loss: 0.0364 - accuracy: 0.9879\n"
          ]
        },
        {
          "output_type": "execute_result",
          "data": {
            "text/plain": [
              "[0.036428891122341156, 0.9879000186920166]"
            ]
          },
          "metadata": {},
          "execution_count": 10
        }
      ]
    },
    {
      "cell_type": "markdown",
      "source": [
        "- 학습과정 시각화"
      ],
      "metadata": {
        "id": "Anfcu2HunTYY"
      }
    },
    {
      "cell_type": "code",
      "source": [
        "y_acc = hist.history['accuracy']\n",
        "y_vloss = hist.history['val_loss']\n",
        "xs = np.arange(1, len(y_acc)+1)"
      ],
      "metadata": {
        "id": "E729nxgZnSHy"
      },
      "execution_count": 11,
      "outputs": []
    },
    {
      "cell_type": "code",
      "source": [
        "plt.figure(figsize=(12,8))\n",
        "plt.title('MNIST_v2', size=20)\n",
        "plt.plot(xs, y_acc, label='train accuracy')\n",
        "plt.plot(xs, y_vloss, label='validation loss')\n",
        "\n",
        "\n",
        "# plt.plot(xs, y_vloss1, label='validation loss')\n",
        "plt.legend(), plt.grid(), plt.xlabel('Epoch')\n",
        "plt.show()"
      ],
      "metadata": {
        "colab": {
          "base_uri": "https://localhost:8080/",
          "height": 517
        },
        "id": "ZkQrT03xn6OM",
        "outputId": "8118af49-4397-4a95-94b7-cccfbef41a32"
      },
      "execution_count": 12,
      "outputs": [
        {
          "output_type": "display_data",
          "data": {
            "text/plain": [
              "<Figure size 864x576 with 1 Axes>"
            ],
            "image/png": "[encoded data removed]"
          },
          "metadata": {
            "needs_background": "light"
          }
        }
      ]
    },
    {
      "cell_type": "code",
      "source": [
        ""
      ],
      "metadata": {
        "id": "vC_vZrXMroue"
      },
      "execution_count": null,
      "outputs": []
    }
  ]
}