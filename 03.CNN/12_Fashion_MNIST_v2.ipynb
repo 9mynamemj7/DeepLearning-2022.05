{
  "nbformat": 4,
  "nbformat_minor": 0,
  "metadata": {
    "colab": {
      "name": "12_Fashion_MNIST_v2.ipynb",
      "provenance": [],
      "collapsed_sections": []
    },
    "kernelspec": {
      "name": "python3",
      "display_name": "Python 3"
    },
    "language_info": {
      "name": "python"
    },
    "accelerator": "GPU"
  },
  "cells": [
    {
      "cell_type": "markdown",
      "source": [
        "# Fashion MNIST - CNN v2\n",
        "- 2 x Conv2D layers with padding\n",
        "- 1 MaxPooling2D layer\n",
        "- 1 Dropout(0.25) layer\n",
        "- 1 FCN layer\n",
        "- 1 Dropout(0.5) layer\n",
        "- 1 Output layer"
      ],
      "metadata": {
        "id": "YnsUcBTJzFTv"
      }
    },
    {
      "cell_type": "code",
      "execution_count": 1,
      "metadata": {
        "id": "dlgmAfI7yZDT"
      },
      "outputs": [],
      "source": [
        "import numpy as np\n",
        "import pandas as pd\n",
        "import matplotlib.pyplot as plt\n",
        "import tensorflow as tf\n",
        "seed = 2022\n",
        "np.random.seed(seed)\n",
        "tf.random.set_seed(seed)"
      ]
    },
    {
      "cell_type": "markdown",
      "source": [
        "- 데이터 전처리"
      ],
      "metadata": {
        "id": "KnUh6Yj2zadJ"
      }
    },
    {
      "cell_type": "code",
      "source": [
        "from tensorflow.keras.datasets import fashion_mnist\n",
        "(X_train, y_train), (X_test, y_test) = fashion_mnist.load_data()\n",
        "X_train.shape, y_train.shape, X_test.shape, y_test.shape"
      ],
      "metadata": {
        "colab": {
          "base_uri": "https://localhost:8080/"
        },
        "id": "BPNRjS3XzSX3",
        "outputId": "9f615b8c-bdaf-4b27-f4cb-08ac39623d44"
      },
      "execution_count": 2,
      "outputs": [
        {
          "output_type": "stream",
          "name": "stdout",
          "text": [
            "Downloading data from https://storage.googleapis.com/tensorflow/tf-keras-datasets/train-labels-idx1-ubyte.gz\n",
            "32768/29515 [=================================] - 0s 0us/step\n",
            "40960/29515 [=========================================] - 0s 0us/step\n",
            "Downloading data from https://storage.googleapis.com/tensorflow/tf-keras-datasets/train-images-idx3-ubyte.gz\n",
            "26427392/26421880 [==============================] - 0s 0us/step\n",
            "26435584/26421880 [==============================] - 0s 0us/step\n",
            "Downloading data from https://storage.googleapis.com/tensorflow/tf-keras-datasets/t10k-labels-idx1-ubyte.gz\n",
            "16384/5148 [===============================================================================================] - 0s 0us/step\n",
            "Downloading data from https://storage.googleapis.com/tensorflow/tf-keras-datasets/t10k-images-idx3-ubyte.gz\n",
            "4423680/4422102 [==============================] - 0s 0us/step\n",
            "4431872/4422102 [==============================] - 0s 0us/step\n"
          ]
        },
        {
          "output_type": "execute_result",
          "data": {
            "text/plain": [
              "((60000, 28, 28), (60000,), (10000, 28, 28), (10000,))"
            ]
          },
          "metadata": {},
          "execution_count": 2
        }
      ]
    },
    {
      "cell_type": "code",
      "source": [
        "class_names = ['T-shirt/top', 'Trouser', 'Pullover', 'Dress', 'Coat',\n",
        "               'Sandal', 'Shirt', 'Sneaker', 'Bag', 'Ankle boot']"
      ],
      "metadata": {
        "id": "iD_DJBQUzh6u"
      },
      "execution_count": 3,
      "outputs": []
    },
    {
      "cell_type": "code",
      "source": [
        "# X_train, X_test 정규화 (0 ~ 1), 이미지 차원 변경: 2차원 --> 3차원\n",
        "X_train = X_train.reshape(-1, 28, 28, 1) / 255.\n",
        "X_test = X_test.reshape(-1, 28, 28, 1) / 255.\n",
        "X_train.shape, X_test.shape"
      ],
      "metadata": {
        "colab": {
          "base_uri": "https://localhost:8080/"
        },
        "id": "odfA_FcW1CIn",
        "outputId": "397c2fb0-e1b1-4ef0-8a56-c88caab2b619"
      },
      "execution_count": 4,
      "outputs": [
        {
          "output_type": "execute_result",
          "data": {
            "text/plain": [
              "((60000, 28, 28, 1), (10000, 28, 28, 1))"
            ]
          },
          "metadata": {},
          "execution_count": 4
        }
      ]
    },
    {
      "cell_type": "code",
      "source": [
        "# One hot encoding\n",
        "from tensorflow.keras.utils import to_categorical\n",
        "Y_train = to_categorical(y_train)\n",
        "Y_test = to_categorical(y_test)\n",
        "Y_train.shape, Y_test.shape"
      ],
      "metadata": {
        "colab": {
          "base_uri": "https://localhost:8080/"
        },
        "id": "t3TxQEls1F7H",
        "outputId": "3db5419c-d444-43bb-b849-ebb751d60694"
      },
      "execution_count": 5,
      "outputs": [
        {
          "output_type": "execute_result",
          "data": {
            "text/plain": [
              "((60000, 10), (10000, 10))"
            ]
          },
          "metadata": {},
          "execution_count": 5
        }
      ]
    },
    {
      "cell_type": "markdown",
      "source": [
        "- 모델 정의/설정/학습/평가"
      ],
      "metadata": {
        "id": "8eCUjtdj07bu"
      }
    },
    {
      "cell_type": "code",
      "source": [
        "from tensorflow.keras.models import Sequential, load_model\n",
        "from tensorflow.keras.layers import Dense, Conv2D, Flatten, MaxPooling2D, Dropout\n",
        "from tensorflow.keras.callbacks import ModelCheckpoint, EarlyStopping"
      ],
      "metadata": {
        "id": "lqaTmgNT04JN"
      },
      "execution_count": 6,
      "outputs": []
    },
    {
      "cell_type": "code",
      "source": [
        "model = Sequential([\n",
        "    Conv2D(32, kernel_size=(3,3), padding='same', input_shape=(28,28,1), activation='relu'),\n",
        "    Conv2D(64, (3,3), padding='same', activation='relu'),\n",
        "    MaxPooling2D(),                          # MaxPooling2D(pool_size=(2,2))\n",
        "    Dropout(0.25),\n",
        "    Flatten(),\n",
        "    Dense(512, activation='relu'),\n",
        "    Dropout(0.5),\n",
        "    Dense(10, activation='softmax')\n",
        "])\n",
        "model.summary()"
      ],
      "metadata": {
        "colab": {
          "base_uri": "https://localhost:8080/"
        },
        "id": "DuBhi8UH04EK",
        "outputId": "47bae8b9-fdb0-4b59-91f7-1595c1b4e369"
      },
      "execution_count": 7,
      "outputs": [
        {
          "output_type": "stream",
          "name": "stdout",
          "text": [
            "Model: \"sequential\"\n",
            "_________________________________________________________________\n",
            " Layer (type)                Output Shape              Param #   \n",
            "=================================================================\n",
            " conv2d (Conv2D)             (None, 28, 28, 32)        320       \n",
            "                                                                 \n",
            " conv2d_1 (Conv2D)           (None, 28, 28, 64)        18496     \n",
            "                                                                 \n",
            " max_pooling2d (MaxPooling2D  (None, 14, 14, 64)       0         \n",
            " )                                                               \n",
            "                                                                 \n",
            " dropout (Dropout)           (None, 14, 14, 64)        0         \n",
            "                                                                 \n",
            " flatten (Flatten)           (None, 12544)             0         \n",
            "                                                                 \n",
            " dense (Dense)               (None, 512)               6423040   \n",
            "                                                                 \n",
            " dropout_1 (Dropout)         (None, 512)               0         \n",
            "                                                                 \n",
            " dense_1 (Dense)             (None, 10)                5130      \n",
            "                                                                 \n",
            "=================================================================\n",
            "Total params: 6,446,986\n",
            "Trainable params: 6,446,986\n",
            "Non-trainable params: 0\n",
            "_________________________________________________________________\n"
          ]
        }
      ]
    },
    {
      "cell_type": "code",
      "source": [
        "model.compile('adam', 'categorical_crossentropy', ['accuracy'])"
      ],
      "metadata": {
        "id": "9l0u6q3M0Uz1"
      },
      "execution_count": 8,
      "outputs": []
    },
    {
      "cell_type": "code",
      "source": [
        "model_path = 'best-fashion-mnist-cnn-v2.h5'\n",
        "mc = ModelCheckpoint(model_path, save_best_only=True, verbose=1)\n",
        "es = EarlyStopping(patience=10)"
      ],
      "metadata": {
        "id": "d9Kx84Ew008N"
      },
      "execution_count": 9,
      "outputs": []
    },
    {
      "cell_type": "code",
      "source": [
        "hist = model.fit(\n",
        "    X_train, Y_train, validation_split=0.2, epochs=100, batch_size=200,\n",
        "    callbacks=[mc,es]\n",
        ")"
      ],
      "metadata": {
        "colab": {
          "base_uri": "https://localhost:8080/"
        },
        "id": "ozcKIE-x02Pa",
        "outputId": "b0b02b61-8481-4126-c83c-0a35ca0fc2ff"
      },
      "execution_count": 10,
      "outputs": [
        {
          "output_type": "stream",
          "name": "stdout",
          "text": [
            "Epoch 1/100\n",
            "238/240 [============================>.] - ETA: 0s - loss: 0.4801 - accuracy: 0.8283\n",
            "Epoch 1: val_loss improved from inf to 0.30778, saving model to best-fashion-mnist-cnn-v2.h5\n",
            "240/240 [==============================] - 16s 19ms/step - loss: 0.4793 - accuracy: 0.8285 - val_loss: 0.3078 - val_accuracy: 0.8880\n",
            "Epoch 2/100\n",
            "237/240 [============================>.] - ETA: 0s - loss: 0.3015 - accuracy: 0.8909\n",
            "Epoch 2: val_loss improved from 0.30778 to 0.26647, saving model to best-fashion-mnist-cnn-v2.h5\n",
            "240/240 [==============================] - 4s 17ms/step - loss: 0.3014 - accuracy: 0.8910 - val_loss: 0.2665 - val_accuracy: 0.9024\n",
            "Epoch 3/100\n",
            "239/240 [============================>.] - ETA: 0s - loss: 0.2472 - accuracy: 0.9111\n",
            "Epoch 3: val_loss improved from 0.26647 to 0.23127, saving model to best-fashion-mnist-cnn-v2.h5\n",
            "240/240 [==============================] - 4s 17ms/step - loss: 0.2475 - accuracy: 0.9110 - val_loss: 0.2313 - val_accuracy: 0.9147\n",
            "Epoch 4/100\n",
            "237/240 [============================>.] - ETA: 0s - loss: 0.2115 - accuracy: 0.9225\n",
            "Epoch 4: val_loss improved from 0.23127 to 0.21539, saving model to best-fashion-mnist-cnn-v2.h5\n",
            "240/240 [==============================] - 4s 18ms/step - loss: 0.2116 - accuracy: 0.9224 - val_loss: 0.2154 - val_accuracy: 0.9204\n",
            "Epoch 5/100\n",
            "237/240 [============================>.] - ETA: 0s - loss: 0.1855 - accuracy: 0.9311\n",
            "Epoch 5: val_loss improved from 0.21539 to 0.20875, saving model to best-fashion-mnist-cnn-v2.h5\n",
            "240/240 [==============================] - 4s 17ms/step - loss: 0.1857 - accuracy: 0.9310 - val_loss: 0.2088 - val_accuracy: 0.9246\n",
            "Epoch 6/100\n",
            "239/240 [============================>.] - ETA: 0s - loss: 0.1629 - accuracy: 0.9400\n",
            "Epoch 6: val_loss improved from 0.20875 to 0.20581, saving model to best-fashion-mnist-cnn-v2.h5\n",
            "240/240 [==============================] - 4s 18ms/step - loss: 0.1629 - accuracy: 0.9400 - val_loss: 0.2058 - val_accuracy: 0.9265\n",
            "Epoch 7/100\n",
            "239/240 [============================>.] - ETA: 0s - loss: 0.1438 - accuracy: 0.9468\n",
            "Epoch 7: val_loss improved from 0.20581 to 0.19870, saving model to best-fashion-mnist-cnn-v2.h5\n",
            "240/240 [==============================] - 4s 18ms/step - loss: 0.1440 - accuracy: 0.9467 - val_loss: 0.1987 - val_accuracy: 0.9304\n",
            "Epoch 8/100\n",
            "240/240 [==============================] - ETA: 0s - loss: 0.1262 - accuracy: 0.9535\n",
            "Epoch 8: val_loss did not improve from 0.19870\n",
            "240/240 [==============================] - 4s 17ms/step - loss: 0.1262 - accuracy: 0.9535 - val_loss: 0.2016 - val_accuracy: 0.9295\n",
            "Epoch 9/100\n",
            "238/240 [============================>.] - ETA: 0s - loss: 0.1124 - accuracy: 0.9582\n",
            "Epoch 9: val_loss did not improve from 0.19870\n",
            "240/240 [==============================] - 4s 17ms/step - loss: 0.1126 - accuracy: 0.9581 - val_loss: 0.2063 - val_accuracy: 0.9285\n",
            "Epoch 10/100\n",
            "240/240 [==============================] - ETA: 0s - loss: 0.0963 - accuracy: 0.9639\n",
            "Epoch 10: val_loss did not improve from 0.19870\n",
            "240/240 [==============================] - 4s 17ms/step - loss: 0.0963 - accuracy: 0.9639 - val_loss: 0.2192 - val_accuracy: 0.9284\n",
            "Epoch 11/100\n",
            "239/240 [============================>.] - ETA: 0s - loss: 0.0841 - accuracy: 0.9688\n",
            "Epoch 11: val_loss did not improve from 0.19870\n",
            "240/240 [==============================] - 4s 17ms/step - loss: 0.0840 - accuracy: 0.9689 - val_loss: 0.2218 - val_accuracy: 0.9302\n",
            "Epoch 12/100\n",
            "239/240 [============================>.] - ETA: 0s - loss: 0.0773 - accuracy: 0.9713\n",
            "Epoch 12: val_loss did not improve from 0.19870\n",
            "240/240 [==============================] - 4s 18ms/step - loss: 0.0773 - accuracy: 0.9713 - val_loss: 0.2341 - val_accuracy: 0.9299\n",
            "Epoch 13/100\n",
            "239/240 [============================>.] - ETA: 0s - loss: 0.0679 - accuracy: 0.9754\n",
            "Epoch 13: val_loss did not improve from 0.19870\n",
            "240/240 [==============================] - 4s 17ms/step - loss: 0.0680 - accuracy: 0.9754 - val_loss: 0.2368 - val_accuracy: 0.9292\n",
            "Epoch 14/100\n",
            "238/240 [============================>.] - ETA: 0s - loss: 0.0640 - accuracy: 0.9757\n",
            "Epoch 14: val_loss did not improve from 0.19870\n",
            "240/240 [==============================] - 4s 18ms/step - loss: 0.0642 - accuracy: 0.9756 - val_loss: 0.2488 - val_accuracy: 0.9283\n",
            "Epoch 15/100\n",
            "237/240 [============================>.] - ETA: 0s - loss: 0.0545 - accuracy: 0.9807\n",
            "Epoch 15: val_loss did not improve from 0.19870\n",
            "240/240 [==============================] - 4s 18ms/step - loss: 0.0549 - accuracy: 0.9805 - val_loss: 0.2410 - val_accuracy: 0.9300\n",
            "Epoch 16/100\n",
            "237/240 [============================>.] - ETA: 0s - loss: 0.0490 - accuracy: 0.9823\n",
            "Epoch 16: val_loss did not improve from 0.19870\n",
            "240/240 [==============================] - 4s 17ms/step - loss: 0.0492 - accuracy: 0.9822 - val_loss: 0.2674 - val_accuracy: 0.9282\n",
            "Epoch 17/100\n",
            "238/240 [============================>.] - ETA: 0s - loss: 0.0442 - accuracy: 0.9844\n",
            "Epoch 17: val_loss did not improve from 0.19870\n",
            "240/240 [==============================] - 4s 18ms/step - loss: 0.0442 - accuracy: 0.9844 - val_loss: 0.2711 - val_accuracy: 0.9316\n"
          ]
        }
      ]
    },
    {
      "cell_type": "code",
      "source": [
        "best_model = load_model(model_path)\n",
        "best_model.evaluate(X_test, Y_test)"
      ],
      "metadata": {
        "colab": {
          "base_uri": "https://localhost:8080/"
        },
        "id": "uVwn1GZO1IdX",
        "outputId": "a88ea611-cefa-401c-934f-84fec958630b"
      },
      "execution_count": 11,
      "outputs": [
        {
          "output_type": "stream",
          "name": "stdout",
          "text": [
            "313/313 [==============================] - 1s 3ms/step - loss: 0.2164 - accuracy: 0.9240\n"
          ]
        },
        {
          "output_type": "execute_result",
          "data": {
            "text/plain": [
              "[0.21635456383228302, 0.9240000247955322]"
            ]
          },
          "metadata": {},
          "execution_count": 11
        }
      ]
    },
    {
      "cell_type": "markdown",
      "source": [
        "- 학습과정 시각화"
      ],
      "metadata": {
        "id": "9cVCRmk91J7Q"
      }
    },
    {
      "cell_type": "code",
      "source": [
        "y_acc = hist.history['accuracy']\n",
        "y_vloss = hist.history['val_loss']\n",
        "xs = np.arange(1, len(y_acc)+1)"
      ],
      "metadata": {
        "id": "yMIlXCrb1Llv"
      },
      "execution_count": 12,
      "outputs": []
    },
    {
      "cell_type": "code",
      "source": [
        "plt.figure(figsize=(12,8))\n",
        "plt.title('Fashion MNIST CNN model v2', size=20)\n",
        "plt.plot(xs, y_acc, label='train accuracy')\n",
        "plt.plot(xs, y_vloss, label='validation loss')\n",
        "\n",
        "\n",
        "# plt.plot(xs, y_vloss1, label='validation loss')\n",
        "plt.legend(), plt.grid(), plt.xlabel('Epoch')\n",
        "plt.show()"
      ],
      "metadata": {
        "colab": {
          "base_uri": "https://localhost:8080/",
          "height": 518
        },
        "id": "67n_TWNe1Ncp",
        "outputId": "7160bc0a-ee06-43f1-8e8f-eb44e593f481"
      },
      "execution_count": 14,
      "outputs": [
        {
          "output_type": "display_data",
          "data": {
            "text/plain": [
              "<Figure size 864x576 with 1 Axes>"
            ],
            "image/png": "[encoded data removed]"
          },
          "metadata": {
            "needs_background": "light"
          }
        }
      ]
    },
    {
      "cell_type": "code",
      "source": [
        ""
      ],
      "metadata": {
        "id": "iU5YPvDV3OM5"
      },
      "execution_count": null,
      "outputs": []
    }
  ]
}