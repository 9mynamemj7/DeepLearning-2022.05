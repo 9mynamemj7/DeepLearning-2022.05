{
  "nbformat": 4,
  "nbformat_minor": 0,
  "metadata": {
    "colab": {
      "name": "02_활성화함수.ipynb",
      "provenance": [],
      "collapsed_sections": []
    },
    "kernelspec": {
      "name": "python3",
      "display_name": "Python 3"
    },
    "language_info": {
      "name": "python"
    }
  },
  "cells": [
    {
      "cell_type": "markdown",
      "source": [
        "### 활성화 함수"
      ],
      "metadata": {
        "id": "9Q_xlTKw--10"
      }
    },
    {
      "cell_type": "code",
      "execution_count": 6,
      "metadata": {
        "id": "d2roOJMl-3jH"
      },
      "outputs": [],
      "source": [
        "import numpy as np\n",
        "import matplotlib.pyplot as plt"
      ]
    },
    {
      "cell_type": "code",
      "source": [
        "xs = np.linspace(-5, 5, 501)"
      ],
      "metadata": {
        "id": "qJQVqml1ASMV"
      },
      "execution_count": 4,
      "outputs": []
    },
    {
      "cell_type": "markdown",
      "source": [
        "- heaviside step function"
      ],
      "metadata": {
        "id": "_pVbleiN_3oH"
      }
    },
    {
      "cell_type": "code",
      "source": [
        "def heaviside(x):\n",
        "    y = np.zeros_like(x)\n",
        "    y[x > 0] = 1        # x <= 0 이면 0, x > 1 이면 1\n",
        "    return y"
      ],
      "metadata": {
        "id": "81IoKmAT_E-s"
      },
      "execution_count": 3,
      "outputs": []
    },
    {
      "cell_type": "code",
      "source": [
        "plt.plot(xs, heaviside(xs))\n",
        "plt.grid()\n",
        "plt.title(\"heaviside function\")\n",
        "plt.show()"
      ],
      "metadata": {
        "colab": {
          "base_uri": "https://localhost:8080/",
          "height": 281
        },
        "id": "zwc4iQwHAQKR",
        "outputId": "8c959d36-9a52-49ff-f21e-39adeac25acd"
      },
      "execution_count": 10,
      "outputs": [
        {
          "output_type": "display_data",
          "data": {
            "text/plain": [
              "<Figure size 432x288 with 1 Axes>"
            ],
            "image/png": "[encoded data removed]"
          },
          "metadata": {
            "needs_background": "light"
          }
        }
      ]
    },
    {
      "cell_type": "markdown",
      "source": [
        "- sigmoid"
      ],
      "metadata": {
        "id": "52cObThqAyQH"
      }
    },
    {
      "cell_type": "code",
      "source": [
        "def sigmoid(x):\n",
        "    return 1 / (1 + np.exp(-x))"
      ],
      "metadata": {
        "id": "soI4-7IHAkc4"
      },
      "execution_count": 8,
      "outputs": []
    },
    {
      "cell_type": "code",
      "source": [
        "plt.plot(xs, sigmoid(xs))\n",
        "plt.grid()\n",
        "plt.title(\"sigmoid\")\n",
        "plt.show()"
      ],
      "metadata": {
        "colab": {
          "base_uri": "https://localhost:8080/",
          "height": 281
        },
        "id": "al90RsFpA8cK",
        "outputId": "0925c5b3-f4ee-4302-fb26-69a7a7e25597"
      },
      "execution_count": 11,
      "outputs": [
        {
          "output_type": "display_data",
          "data": {
            "text/plain": [
              "<Figure size 432x288 with 1 Axes>"
            ],
            "image/png": "[encoded data removed]"
          },
          "metadata": {
            "needs_background": "light"
          }
        }
      ]
    },
    {
      "cell_type": "markdown",
      "source": [
        "- hyperbolic tangent"
      ],
      "metadata": {
        "id": "yOr7F5CSBNSr"
      }
    },
    {
      "cell_type": "code",
      "source": [
        "plt.plot(xs, np.tanh(xs))\n",
        "plt.grid()\n",
        "plt.title(\"hyperbolic tangent\")\n",
        "plt.show()"
      ],
      "metadata": {
        "colab": {
          "base_uri": "https://localhost:8080/",
          "height": 281
        },
        "id": "ZbgVYJufBAiV",
        "outputId": "bade3283-c4c7-47df-a582-7df4140fff54"
      },
      "execution_count": 12,
      "outputs": [
        {
          "output_type": "display_data",
          "data": {
            "text/plain": [
              "<Figure size 432x288 with 1 Axes>"
            ],
            "image/png": "[encoded data removed]"
          },
          "metadata": {
            "needs_background": "light"
          }
        }
      ]
    },
    {
      "cell_type": "markdown",
      "source": [
        "- relu(rectified linear unit)"
      ],
      "metadata": {
        "id": "1rtsSxdyBuXW"
      }
    },
    {
      "cell_type": "code",
      "source": [
        "def relu(x):\n",
        "    return np.maximum(0, x)"
      ],
      "metadata": {
        "cellView": "code",
        "id": "-NCanrETBZJg"
      },
      "execution_count": 17,
      "outputs": []
    },
    {
      "cell_type": "code",
      "source": [
        "plt.plot(xs, relu(xs))\n",
        "plt.grid()\n",
        "plt.title(\"rectified linear unit\")\n",
        "plt.show()"
      ],
      "metadata": {
        "colab": {
          "base_uri": "https://localhost:8080/",
          "height": 281
        },
        "id": "U5Ki3MVYB9Wm",
        "outputId": "f3c49539-c104-474a-dab5-80f0d58563ec"
      },
      "execution_count": 18,
      "outputs": [
        {
          "output_type": "display_data",
          "data": {
            "text/plain": [
              "<Figure size 432x288 with 1 Axes>"
            ],
            "image/png": "[encoded data removed]"
          },
          "metadata": {
            "needs_background": "light"
          }
        }
      ]
    },
    {
      "cell_type": "markdown",
      "source": [
        "- leaky relu"
      ],
      "metadata": {
        "id": "FWCZ4jZNCXyl"
      }
    },
    {
      "cell_type": "code",
      "source": [
        "def leaky_relu(x):\n",
        "    return np.maximum(0.01*x, x)"
      ],
      "metadata": {
        "id": "Wd1rvrStCBdu"
      },
      "execution_count": 19,
      "outputs": []
    },
    {
      "cell_type": "code",
      "source": [
        "plt.plot(xs, leaky_relu(xs))\n",
        "plt.grid()\n",
        "plt.title(\"leaky relu\")\n",
        "plt.show()"
      ],
      "metadata": {
        "colab": {
          "base_uri": "https://localhost:8080/",
          "height": 281
        },
        "id": "_OlgvxUiCJPB",
        "outputId": "6c2d2dab-dabf-4a58-de0e-27fb72c6a695"
      },
      "execution_count": 20,
      "outputs": [
        {
          "output_type": "display_data",
          "data": {
            "text/plain": [
              "<Figure size 432x288 with 1 Axes>"
            ],
            "image/png": "[encoded data removed]"
          },
          "metadata": {
            "needs_background": "light"
          }
        }
      ]
    },
    {
      "cell_type": "markdown",
      "source": [
        "- softplus"
      ],
      "metadata": {
        "id": "ZQgeIdSBC9_E"
      }
    },
    {
      "cell_type": "code",
      "source": [
        "def softplus(x):\n",
        "    return np.log(1 + np.exp(x))"
      ],
      "metadata": {
        "id": "ukzeXlhrCs53"
      },
      "execution_count": 21,
      "outputs": []
    },
    {
      "cell_type": "code",
      "source": [
        "plt.plot(xs, softplus(xs))\n",
        "plt.grid()\n",
        "plt.title(\"soft plus\")\n",
        "plt.show()"
      ],
      "metadata": {
        "colab": {
          "base_uri": "https://localhost:8080/",
          "height": 281
        },
        "id": "YWruPk8sDG3w",
        "outputId": "cddbf60b-1061-4e1a-cfe4-5759570e1e2a"
      },
      "execution_count": 22,
      "outputs": [
        {
          "output_type": "display_data",
          "data": {
            "text/plain": [
              "<Figure size 432x288 with 1 Axes>"
            ],
            "image/png": "[encoded data removed]"
          },
          "metadata": {
            "needs_background": "light"
          }
        }
      ]
    },
    {
      "cell_type": "markdown",
      "source": [
        "- softmax"
      ],
      "metadata": {
        "id": "y5ElkJ6rESpO"
      }
    },
    {
      "cell_type": "code",
      "source": [
        "def softmax(x):\n",
        "    x = x - np.max(x)       # overflow 방지\n",
        "    return np.exp(x) / np.sum(np.exp(x))"
      ],
      "metadata": {
        "id": "JLypn7yzDK_b"
      },
      "execution_count": 28,
      "outputs": []
    },
    {
      "cell_type": "code",
      "source": [
        "yhat = np.array([-1, 1, 3])\n",
        "softmax(yhat)"
      ],
      "metadata": {
        "colab": {
          "base_uri": "https://localhost:8080/"
        },
        "id": "Br7dimUdFaXA",
        "outputId": "11ecfce5-c13c-45f7-d369-a939e3dd0bf8"
      },
      "execution_count": 26,
      "outputs": [
        {
          "output_type": "execute_result",
          "data": {
            "text/plain": [
              "array([0.01587624, 0.11731043, 0.86681333])"
            ]
          },
          "metadata": {},
          "execution_count": 26
        }
      ]
    },
    {
      "cell_type": "code",
      "source": [
        "np.sum(softmax(yhat))"
      ],
      "metadata": {
        "colab": {
          "base_uri": "https://localhost:8080/"
        },
        "id": "k9UgGwiRFlcu",
        "outputId": "f21e2929-188f-4eb8-933b-a3f31f040f9a"
      },
      "execution_count": 27,
      "outputs": [
        {
          "output_type": "execute_result",
          "data": {
            "text/plain": [
              "1.0"
            ]
          },
          "metadata": {},
          "execution_count": 27
        }
      ]
    },
    {
      "cell_type": "code",
      "source": [
        ""
      ],
      "metadata": {
        "id": "m15dNfWNF6J4"
      },
      "execution_count": null,
      "outputs": []
    }
  ]
}