{
  "nbformat": 4,
  "nbformat_minor": 0,
  "metadata": {
    "colab": {
      "name": "03_MLP.ipynb",
      "provenance": [],
      "collapsed_sections": []
    },
    "kernelspec": {
      "name": "python3",
      "display_name": "Python 3"
    },
    "language_info": {
      "name": "python"
    }
  },
  "cells": [
    {
      "cell_type": "code",
      "source": [
        "import numpy as np"
      ],
      "metadata": {
        "id": "tm-jJtkrOH0C"
      },
      "execution_count": 4,
      "outputs": []
    },
    {
      "cell_type": "code",
      "source": [
        "def AND_gate(x1, x2):\n",
        "    weight = np.array([1,1])\n",
        "    bias = -1\n",
        "    x = np.array([x1,x2])\n",
        "    x1, x2 in [(0,0),(0,1),(1,0),(1,1)]\n",
        "    sum = np.dot(weight, x) + bias\n",
        "    return 0 if sum <= 0 else 1"
      ],
      "metadata": {
        "id": "ilyiMsRGOYjD"
      },
      "execution_count": 7,
      "outputs": []
    },
    {
      "cell_type": "code",
      "execution_count": 1,
      "metadata": {
        "id": "gB5Fk_XlNHDs"
      },
      "outputs": [],
      "source": [
        "def OR_gate(x1, x2):\n",
        "    weight = np.array([2,2])\n",
        "    bias = -1\n",
        "    x = np.array([x1,x2])\n",
        "    x1, x2 in [(0,0),(0,1),(1,0),(1,1)]\n",
        "    sum = np.dot(weight, x) + bias\n",
        "    return 0 if sum <= 0 else 1"
      ]
    },
    {
      "cell_type": "code",
      "source": [
        "def NAND_gate(x1, x2):\n",
        "    weight = np.array([-2,-2])\n",
        "    bias = 3\n",
        "    x = np.array([x1,x2])\n",
        "    x1, x2 in [(0,0),(0,1),(1,0),(1,1)]\n",
        "    sum = np.dot(weight, x) + bias\n",
        "    return 0 if sum <= 0 else 1"
      ],
      "metadata": {
        "id": "7NT6_NqjOHgP"
      },
      "execution_count": 2,
      "outputs": []
    },
    {
      "cell_type": "markdown",
      "source": [
        "- MLP"
      ],
      "metadata": {
        "id": "434X64I_NtWg"
      }
    },
    {
      "cell_type": "code",
      "source": [
        "n1, n2 = [], []\n",
        "for x1, x2 in [(0,0),(0,1),(1,0),(1,1)]:\n",
        "    n1.append(NAND_gate(x1,x2))\n",
        "    n2.append(OR_gate(x1,x2))"
      ],
      "metadata": {
        "id": "mCWv3VXfNuZA"
      },
      "execution_count": 5,
      "outputs": []
    },
    {
      "cell_type": "code",
      "source": [
        "n1, n2"
      ],
      "metadata": {
        "colab": {
          "base_uri": "https://localhost:8080/"
        },
        "id": "JYTLVkLaOMmC",
        "outputId": "2e72b3ff-23b3-4603-d7ab-c68c06f45e40"
      },
      "execution_count": 6,
      "outputs": [
        {
          "output_type": "execute_result",
          "data": {
            "text/plain": [
              "([1, 1, 1, 0], [0, 1, 1, 1])"
            ]
          },
          "metadata": {},
          "execution_count": 6
        }
      ]
    },
    {
      "cell_type": "code",
      "source": [
        "for x1, x2 in zip(n1,n2):\n",
        "    print(AND_gate(x1,x2))"
      ],
      "metadata": {
        "colab": {
          "base_uri": "https://localhost:8080/"
        },
        "id": "FfwdFp9MOQ9f",
        "outputId": "a23d0ce3-38de-4edc-cf78-c8f290da4c57"
      },
      "execution_count": 8,
      "outputs": [
        {
          "output_type": "stream",
          "name": "stdout",
          "text": [
            "0\n",
            "1\n",
            "1\n",
            "0\n"
          ]
        }
      ]
    },
    {
      "cell_type": "markdown",
      "source": [
        "- XOR gate"
      ],
      "metadata": {
        "id": "phRUz2rIOa2g"
      }
    },
    {
      "cell_type": "code",
      "source": [
        "def XOR_gate(x1,x2):\n",
        "    return AND_gate(NAND_gate(x1,x2), OR_gate(x1,x2))"
      ],
      "metadata": {
        "id": "hhat50imOaJN"
      },
      "execution_count": 9,
      "outputs": []
    },
    {
      "cell_type": "code",
      "source": [
        "print('x1,x2\\tn1,n2\\tXOR')\n",
        "for x1, x2 in [(0,0), (0,1), (1,0), (1,1)]:\n",
        "    print(f'{x1:2d},{x2:2d}\\t{NAND_gate(x1,x2):2d},{OR_gate(x1,x2):2d}\\t{XOR_gate(x1,x2):3d}')"
      ],
      "metadata": {
        "colab": {
          "base_uri": "https://localhost:8080/"
        },
        "id": "Mb16TDucOqzT",
        "outputId": "2effc0ac-9b0e-4542-ed4b-c950c8bac4d0"
      },
      "execution_count": 10,
      "outputs": [
        {
          "output_type": "stream",
          "name": "stdout",
          "text": [
            "x1,x2\tn1,n2\tXOR\n",
            " 0, 0\t 1, 0\t  0\n",
            " 0, 1\t 1, 1\t  1\n",
            " 1, 0\t 1, 1\t  1\n",
            " 1, 1\t 0, 1\t  0\n"
          ]
        }
      ]
    },
    {
      "cell_type": "code",
      "source": [
        ""
      ],
      "metadata": {
        "id": "dTmJAJWmOwiQ"
      },
      "execution_count": null,
      "outputs": []
    }
  ]
}